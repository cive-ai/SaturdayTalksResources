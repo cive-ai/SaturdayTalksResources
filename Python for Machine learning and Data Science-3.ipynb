{
 "cells": [
  {
   "cell_type": "markdown",
   "metadata": {},
   "source": [
    "# PytzMLS2018: Python for ML and DS - Matplotlib\n",
    "\n",
    "<center>**Anthony Faustine (sambaiga@gmail.com)**</center>"
   ]
  },
  {
   "cell_type": "markdown",
   "metadata": {},
   "source": [
    "## 3.1. Matplotlib Basics"
   ]
  },
  {
   "cell_type": "markdown",
   "metadata": {
    "collapsed": true
   },
   "source": [
    "[Matplotlib](http://matplotlib.org/) is a Python package used widely throughout the scientific Python community to produce high quality 2D publication graphics. It transparently supports a wide range of output formats including PNG (and other raster formats), PostScript/EPS, PDF and SVG and has interfaces for all of the major desktop GUI (graphical user interface) toolkits. It is a great package with lots of options."
   ]
  },
  {
   "cell_type": "markdown",
   "metadata": {},
   "source": [
    "To use the matplotlib functions matplotlib should be imported as import matplotlib,but by importing the matplotlib.pyplot one has access to all MATLB like commands of Pyplot."
   ]
  },
  {
   "cell_type": "code",
   "execution_count": null,
   "metadata": {},
   "outputs": [],
   "source": [
    "import numpy as np\n",
    "import matplotlib.pyplot as plt"
   ]
  },
  {
   "cell_type": "markdown",
   "metadata": {},
   "source": [
    "In order to see the resulting plots, matplotlib should be inlined in the first cell of IPython.\n"
   ]
  },
  {
   "cell_type": "code",
   "execution_count": null,
   "metadata": {},
   "outputs": [],
   "source": [
    "%matplotlib inline  "
   ]
  },
  {
   "cell_type": "markdown",
   "metadata": {},
   "source": [
    "## 3.1.1 Basic Plot\n",
    "\n",
    "**Plot()** command draws the plot, and is a versatile command which accepts arbitrary number of arguments. In order to see the plots **show()** command should be used. \n",
    "\n",
    "One can easily give legend information to the plots by **title()**, **xlabel()**, **ylabel()**\n"
   ]
  },
  {
   "cell_type": "markdown",
   "metadata": {},
   "source": [
    "### Line plot\n",
    "\n",
    "* You provide X and Y of points, matplotlib connects them in a line"
   ]
  },
  {
   "cell_type": "code",
   "execution_count": null,
   "metadata": {},
   "outputs": [],
   "source": [
    "# Load Data\n",
    "x = np.linspace(0,1,100)\n",
    "y = x**2\n",
    "plt.plot(x,y)"
   ]
  },
  {
   "cell_type": "markdown",
   "metadata": {},
   "source": [
    "we can add title and axis labels in our plot as follows:"
   ]
  },
  {
   "cell_type": "code",
   "execution_count": null,
   "metadata": {},
   "outputs": [],
   "source": [
    "plt.title(\"The graph of x vs $y^2$\")\n",
    "plt.xlabel('x-axis')\n",
    "plt.ylabel('y-axis')\n",
    "plt.plot(x,y);"
   ]
  },
  {
   "cell_type": "markdown",
   "metadata": {},
   "source": [
    "### Controlling line properties and Formatting\n",
    "\n",
    "We can vary the line color or the line symbol of the matlibplot as follows:"
   ]
  },
  {
   "cell_type": "code",
   "execution_count": null,
   "metadata": {},
   "outputs": [],
   "source": [
    "plt.title(\"The graph of x vs $y^2$\")\n",
    "plt.xlabel('x-axis')\n",
    "plt.ylabel('y-axis')\n",
    "plt.plot(x,y, 'r--');  # dotted red line "
   ]
  },
  {
   "cell_type": "markdown",
   "metadata": {},
   "source": [
    "**Other options for the color characters are:**\n",
    "\n",
    " * 'r' = red\n",
    " * 'g' = green\n",
    " * 'b' = blue\n",
    " * 'c' = cyan\n",
    " * 'm' = magenta\n",
    " * 'y' = yellow\n",
    " * 'k' = black\n",
    " * 'w' = white\n",
    " \n",
    " \n",
    "** Options for line styles are**\n",
    "\n",
    " * '-' = solid\n",
    " * '--' = dashed\n",
    " * ':' = dotted\n",
    " * '-.' = dot-dashed\n",
    " * '.' = points\n",
    " * 'o' = filled circles\n",
    " * '^' = filled triangles"
   ]
  },
  {
   "cell_type": "markdown",
   "metadata": {},
   "source": [
    "There are other ways to specify the line formats, for example by using keywords such as **linewidth** and **linestyle**, **color** etc as an argument of plot() function."
   ]
  },
  {
   "cell_type": "code",
   "execution_count": null,
   "metadata": {},
   "outputs": [],
   "source": [
    "plt.plot(x,y, color=\"green\", linewidth=4.0, linestyle=\"dotted\")   \n",
    "plt.title(\"The graph of x vs $y^2$\")\n",
    "plt.xlabel('x-axis')\n",
    "plt.ylabel('y-axis');"
   ]
  },
  {
   "cell_type": "markdown",
   "metadata": {},
   "source": [
    "### 1.2 Adding legend\n",
    "\n",
    "Legends help in understanding the plots, they provide label the the  lines on a plot. Adding a legend to a plot only requires adding the keyword argument label (that will be used in the legend box) to the plot commands."
   ]
  },
  {
   "cell_type": "code",
   "execution_count": null,
   "metadata": {},
   "outputs": [],
   "source": [
    "x = np.linspace(-np.pi , np.pi, 100)\n",
    "y1 = np.sin(x)\n",
    "y2 = np.cos(x)\n",
    "\n",
    "plt.title(\"Sin and Cos Plot\")\n",
    "plt.xlabel(\"x values\")\n",
    "plt.ylabel(\"y values\")\n",
    "plt.plot(x,y1, color=\"green\", linewidth=4.0, linestyle=\"dotted\", label=\"Sin\")\n",
    "plt.plot(x,y2, '--r', linewidth=4.0, label='cos')\n",
    "plt.legend(loc='upper left', frameon=False) # Try to change frame on = True"
   ]
  },
  {
   "cell_type": "markdown",
   "metadata": {},
   "source": [
    "### 1.3 Save figure to image file\n",
    "\n",
    "Matplotlib can save plots directly to a file using **savefig()**. The method can be used like this:\n",
    "```python\n",
    "plt.savefig('plot.png')\n",
    "```\n",
    "To change the format, simply change the extension like so:\n",
    "\n",
    "```python\n",
    "plt.savefig('plot.pdf')\n",
    "```"
   ]
  },
  {
   "cell_type": "markdown",
   "metadata": {},
   "source": [
    "## 3.1.4 Subplot"
   ]
  },
  {
   "cell_type": "code",
   "execution_count": null,
   "metadata": {},
   "outputs": [],
   "source": [
    "plt.subplot(2,2,1)\n",
    "plt.plot(x, x**2)\n",
    "plt.subplot(2,2,2)\n",
    "plt.plot(x, x**3)"
   ]
  },
  {
   "cell_type": "markdown",
   "metadata": {},
   "source": [
    "## 3.2. Other types of plots"
   ]
  },
  {
   "cell_type": "markdown",
   "metadata": {},
   "source": [
    "### 3.2.1 Scatter plot\n",
    "\n",
    "* Takes X and Y just like .plot, but does not connect the dots with lines.\n",
    "* Useful to explore data structure\n",
    "\n",
    "* **scatter()** makes a scatter plot of x vs y, where x and y are sequence like objects of the same lengths.\n",
    "x, y : array of n numbers Input data:\n",
    "\n",
    "* **s **: size in points^2. , scalar or array of n numbers, optional, default: 20\n",
    "\n",
    "* **c** : color or sequence of color (optional) , c uses the colormap function to map single value to a color\n",
    "\n",
    "* **alpha**: The alpha blending value, between 0 (transparent) and 1 (opaque)\n",
    "\n"
   ]
  },
  {
   "cell_type": "code",
   "execution_count": null,
   "metadata": {},
   "outputs": [],
   "source": [
    "x = np.arange(100)\n",
    "y = np.random.randn(100)"
   ]
  },
  {
   "cell_type": "code",
   "execution_count": null,
   "metadata": {},
   "outputs": [],
   "source": [
    "plt.title(\"The Scatter Plot\")\n",
    "plt.ylabel(\"y\")\n",
    "plt.xlabel(\"x\")\n",
    "plt.scatter(x,y, c = 'red', s=70)"
   ]
  },
  {
   "cell_type": "markdown",
   "metadata": {},
   "source": [
    "### Note:\n",
    "You can also compare two data series using  Matplotlib bar graph: Suppose we want to compare top five districts enrollment for female and male."
   ]
  },
  {
   "cell_type": "markdown",
   "metadata": {},
   "source": [
    "### 3. 2.3 Histograms\n",
    "\n",
    "A histogram is a fantastic visualization for getting a feel for the distribution of your data set.\n",
    "\n",
    "To plot histograms, **hist()** command of pyplot can be used which also accepts different styling and formatting.\n",
    "\n",
    "\n",
    "**Note**: bins is an important parameter for histogram"
   ]
  },
  {
   "cell_type": "code",
   "execution_count": null,
   "metadata": {},
   "outputs": [],
   "source": [
    "data = [ 48.03014618,  55.62870238,  51.19323402,  45.85549349,\n",
    "        65.52041789,  54.53224804,  50.25047032,  51.30577492,\n",
    "        37.45501384,  78.03728206,  48.90642114,  61.07434741,\n",
    "        46.48480404,  38.93493593,  43.59885548,  53.34441508,\n",
    "        45.31284282,  59.24199798,  32.84369859,  37.07341227,\n",
    "        28.55325686,  53.22702534,  49.08640992,  62.8207843 ,\n",
    "        50.79301098,  62.75709926,  45.95268258,  48.42733047,\n",
    "        60.76539322,  56.56223198]"
   ]
  },
  {
   "cell_type": "code",
   "execution_count": null,
   "metadata": {},
   "outputs": [],
   "source": [
    "plt.hist(y);\n",
    "plt.title('Histrogram')"
   ]
  },
  {
   "cell_type": "markdown",
   "metadata": {},
   "source": [
    "## References\n",
    "\n",
    "- [python4datascience-atc](https://github.com/pythontz/python4datascience-atc)\n",
    "- [PythonDataScienceHandbook](https://github.com/jakevdp/PythonDataScienceHandbook)\n",
    "- [DS-python-data-analysis](https://github.com/jorisvandenbossche/DS-python-data-analysis)"
   ]
  }
 ],
 "metadata": {
  "kernelspec": {
   "display_name": "Python 3",
   "language": "python",
   "name": "python3"
  },
  "language_info": {
   "codemirror_mode": {
    "name": "ipython",
    "version": 3
   },
   "file_extension": ".py",
   "mimetype": "text/x-python",
   "name": "python",
   "nbconvert_exporter": "python",
   "pygments_lexer": "ipython3",
   "version": "3.6.5"
  },
  "latex_envs": {
   "LaTeX_envs_menu_present": true,
   "autocomplete": true,
   "bibliofile": "biblio.bib",
   "cite_by": "apalike",
   "current_citInitial": 1,
   "eqLabelWithNumbers": true,
   "eqNumInitial": 1,
   "hotkeys": {
    "equation": "Ctrl-E",
    "itemize": "Ctrl-I"
   },
   "labels_anchors": false,
   "latex_user_defs": false,
   "report_style_numbering": false,
   "user_envs_cfg": false
  }
 },
 "nbformat": 4,
 "nbformat_minor": 2
}
