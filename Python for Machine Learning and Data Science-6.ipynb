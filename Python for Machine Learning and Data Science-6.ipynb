{
 "cells": [
  {
   "cell_type": "markdown",
   "metadata": {},
   "source": [
    "# PytzMLS2018: Python for ML and DS Research - Pytorch for Deeplearning\n",
    "\n",
    "<center>**Anthony Faustine (sambaiga@gmail.com)**</center>"
   ]
  },
  {
   "cell_type": "code",
   "execution_count": 1,
   "metadata": {},
   "outputs": [],
   "source": [
    "import torch\n",
    "import numpy as np\n",
    "import matplotlib.pyplot as plt\n",
    "%matplotlib inline"
   ]
  },
  {
   "cell_type": "code",
   "execution_count": 2,
   "metadata": {},
   "outputs": [
    {
     "data": {
      "text/plain": [
       "<torch._C.Generator at 0x2c9fbddd10>"
      ]
     },
     "execution_count": 2,
     "metadata": {},
     "output_type": "execute_result"
    }
   ],
   "source": [
    "torch.manual_seed(777)  # for reproducibility"
   ]
  },
  {
   "cell_type": "markdown",
   "metadata": {},
   "source": [
    "## 6. Introduction\n",
    "\n",
    "### 6. 1 What is Pytorch\n",
    "[PyTorch](http://pytorch.org/) is a python package that provides two high-level features: Tensor computation (like numpy) with strong GPU acceleration and Deep Neural Networks built on a tape-based autograd system <sup>[1](#myfootnote1)</sup>. These features enable pytorch to act as a replacement for numpy to use the power of GPUs and deep learning research platform that provides maximum flexibility and speed\n",
    "\n",
    "Unlike Tensorfolow,  PyTorch supports creation of dynamic computation graphs (DCG), whereas Tensorflow use a static computation graph (SCG). For a clear and systematically comparison between PyTorch and TensorFlow you may refer to this [blog post](https://awni.github.io/pytorch-tensorflow/).\n",
    "\n",
    "This  notebook require PyTorch 0.4.0 or later. You can check the version number of the currently installed pytorch package with:  ```python print(torch.__version__)```."
   ]
  },
  {
   "cell_type": "code",
   "execution_count": 3,
   "metadata": {},
   "outputs": [
    {
     "name": "stdout",
     "output_type": "stream",
     "text": [
      "0.4.0\n"
     ]
    }
   ],
   "source": [
    "print(torch.__version__)"
   ]
  },
  {
   "cell_type": "markdown",
   "metadata": {},
   "source": [
    "## 6. 2. Basic Pytorch Operations"
   ]
  },
  {
   "cell_type": "markdown",
   "metadata": {},
   "source": [
    "### 6.2.1 Pytorch Tensors\n",
    "\n",
    "The main building block of the PyTorch is the tensors. So what is tensor? \n",
    "\n",
    "**Tensor** is a multi-dimensional matrix containing elements of a single data type. They are very similar to the NumPy array. However, unlike numpy array, pytorch tensor can utilize GPU.\n",
    "\n",
    " A tensor can be constructed from a Python list or sequence with the **torch.Tensor()** function."
   ]
  },
  {
   "cell_type": "code",
   "execution_count": 4,
   "metadata": {},
   "outputs": [
    {
     "name": "stdout",
     "output_type": "stream",
     "text": [
      "tensor([ 1.,  2.,  3.])\n"
     ]
    }
   ],
   "source": [
    "#Create a torch.Tensor object with the given data.  It is a 1D vector\n",
    "data = [1., 2., 3.]\n",
    "V = torch.Tensor(data) #Convert list to torch.Tensors\n",
    "print(V)"
   ]
  },
  {
   "cell_type": "code",
   "execution_count": 5,
   "metadata": {},
   "outputs": [
    {
     "name": "stdout",
     "output_type": "stream",
     "text": [
      "tensor([[ 1.,  2.,  3.],\n",
      "        [ 4.,  5.,  6.]])\n"
     ]
    }
   ],
   "source": [
    "# Creates a matrix\n",
    "data = [[1., 2., 3.], [4., 5., 6]]\n",
    "M = torch.Tensor(data)\n",
    "print (M)"
   ]
  },
  {
   "cell_type": "code",
   "execution_count": 7,
   "metadata": {},
   "outputs": [
    {
     "name": "stdout",
     "output_type": "stream",
     "text": [
      "tensor([[[ 1.,  2.],\n",
      "         [ 3.,  4.]],\n",
      "\n",
      "        [[ 5.,  6.],\n",
      "         [ 7.,  8.]]])\n"
     ]
    }
   ],
   "source": [
    "# Create a 3D tensor of size 2x2x2.\n",
    "data = [[[1.,2.], [3.,4.]],\n",
    "          [[5.,6.], [7.,8.]]]\n",
    "T = torch.Tensor(data)\n",
    "print (T)"
   ]
  },
  {
   "cell_type": "markdown",
   "metadata": {},
   "source": [
    "Vectors and matrices are special cases of torch.Tensors, where their dimension is 1 and 2 respectively"
   ]
  },
  {
   "cell_type": "markdown",
   "metadata": {},
   "source": [
    "#### You can create a tensor with *random data* and the supplied dimensionality with **torch.randn()**"
   ]
  },
  {
   "cell_type": "code",
   "execution_count": 9,
   "metadata": {},
   "outputs": [
    {
     "name": "stdout",
     "output_type": "stream",
     "text": [
      "tensor([[-1.3173,  2.3271,  0.0894,  0.6558],\n",
      "        [-0.5836, -0.1074,  0.0367,  0.1822]])\n"
     ]
    }
   ],
   "source": [
    "x = torch.randn(2, 4)\n",
    "print(x)"
   ]
  },
  {
   "cell_type": "code",
   "execution_count": 11,
   "metadata": {},
   "outputs": [
    {
     "name": "stdout",
     "output_type": "stream",
     "text": [
      "tensor([[[ 0.9243, -0.6893,  3.7072, -0.5501],\n",
      "         [-0.2961,  1.7696, -0.7152,  0.9309]],\n",
      "\n",
      "        [[ 0.3805, -0.9822, -0.0106, -0.1521],\n",
      "         [-0.8246,  1.2463,  1.6407,  1.7244]]])\n"
     ]
    }
   ],
   "source": [
    "y = torch.randn(2, 2, 4)\n",
    "print(y)"
   ]
  },
  {
   "cell_type": "markdown",
   "metadata": {},
   "source": [
    "You can also use special tensors line ones and zeros"
   ]
  },
  {
   "cell_type": "code",
   "execution_count": 12,
   "metadata": {},
   "outputs": [
    {
     "data": {
      "text/plain": [
       "tensor([[ 1.,  1.,  1.],\n",
       "        [ 1.,  1.,  1.]])"
      ]
     },
     "execution_count": 12,
     "metadata": {},
     "output_type": "execute_result"
    }
   ],
   "source": [
    "torch.ones(2, 3)"
   ]
  },
  {
   "cell_type": "code",
   "execution_count": 13,
   "metadata": {},
   "outputs": [
    {
     "data": {
      "text/plain": [
       "tensor([[ 0.,  0.,  0.,  0.,  0.],\n",
       "        [ 0.,  0.,  0.,  0.,  0.],\n",
       "        [ 0.,  0.,  0.,  0.,  0.]])"
      ]
     },
     "execution_count": 13,
     "metadata": {},
     "output_type": "execute_result"
    }
   ],
   "source": [
    "torch.zeros(3, 5)"
   ]
  },
  {
   "cell_type": "markdown",
   "metadata": {},
   "source": [
    "To get size of tensor you can use **.size()**, it also possible to use **.shape**"
   ]
  },
  {
   "cell_type": "code",
   "execution_count": 14,
   "metadata": {},
   "outputs": [
    {
     "data": {
      "text/plain": [
       "tensor([[ 0.7349,  0.9384],\n",
       "        [ 0.6960,  0.0812],\n",
       "        [ 0.3508,  0.5885]])"
      ]
     },
     "execution_count": 14,
     "metadata": {},
     "output_type": "execute_result"
    }
   ],
   "source": [
    "x = torch.rand(3, 2)\n",
    "x"
   ]
  },
  {
   "cell_type": "code",
   "execution_count": 15,
   "metadata": {},
   "outputs": [
    {
     "data": {
      "text/plain": [
       "torch.Size([3, 2])"
      ]
     },
     "execution_count": 15,
     "metadata": {},
     "output_type": "execute_result"
    }
   ],
   "source": [
    "x.size()"
   ]
  },
  {
   "cell_type": "code",
   "execution_count": 17,
   "metadata": {},
   "outputs": [
    {
     "data": {
      "text/plain": [
       "torch.Size([3, 2])"
      ]
     },
     "execution_count": 17,
     "metadata": {},
     "output_type": "execute_result"
    }
   ],
   "source": [
    "x.shape"
   ]
  },
  {
   "cell_type": "markdown",
   "metadata": {},
   "source": [
    "To returns the value of this tensor as a standard Python number use **.item()**. This only works for tensors with one element."
   ]
  },
  {
   "cell_type": "code",
   "execution_count": 20,
   "metadata": {},
   "outputs": [],
   "source": [
    "x = torch.rand(3)"
   ]
  },
  {
   "cell_type": "code",
   "execution_count": 21,
   "metadata": {},
   "outputs": [
    {
     "data": {
      "text/plain": [
       "tensor([ 0.0416,  0.3465,  0.9688])"
      ]
     },
     "execution_count": 21,
     "metadata": {},
     "output_type": "execute_result"
    }
   ],
   "source": [
    "x"
   ]
  },
  {
   "cell_type": "code",
   "execution_count": 22,
   "metadata": {},
   "outputs": [
    {
     "name": "stdout",
     "output_type": "stream",
     "text": [
      "tensor(1.00000e-02 *\n",
      "       4.1618)\n"
     ]
    }
   ],
   "source": [
    "print(x[0])"
   ]
  },
  {
   "cell_type": "code",
   "execution_count": 23,
   "metadata": {},
   "outputs": [
    {
     "name": "stdout",
     "output_type": "stream",
     "text": [
      "0.0416179895401001\n"
     ]
    }
   ],
   "source": [
    "print(x[0].item())"
   ]
  },
  {
   "cell_type": "markdown",
   "metadata": {},
   "source": [
    "### Numpy Bridge\n",
    "   \n",
    "You can easily convert pytorch tensor into numpy array and viceversa.  To create a tensor from a Numpy array, use `torch.from_numpy()` or `torch.Tensor()`. To convert a tensor to a Numpy array, use the `.numpy()` method."
   ]
  },
  {
   "cell_type": "code",
   "execution_count": 24,
   "metadata": {},
   "outputs": [
    {
     "name": "stdout",
     "output_type": "stream",
     "text": [
      "[[ 2.45897278  0.1096162  -1.61479563  0.21819903]\n",
      " [ 0.74621809  1.06890612  0.41477782 -1.48952938]\n",
      " [-0.92784242 -0.23560003 -1.10622968 -0.88898243]]\n"
     ]
    }
   ],
   "source": [
    "import numpy as np\n",
    "\n",
    "numpy_tensor = np.random.randn(3, 4)\n",
    "print(numpy_tensor)"
   ]
  },
  {
   "cell_type": "code",
   "execution_count": 25,
   "metadata": {},
   "outputs": [
    {
     "name": "stdout",
     "output_type": "stream",
     "text": [
      "tensor([[ 2.4590,  0.1096, -1.6148,  0.2182],\n",
      "        [ 0.7462,  1.0689,  0.4148, -1.4895],\n",
      "        [-0.9278, -0.2356, -1.1062, -0.8890]])\n"
     ]
    }
   ],
   "source": [
    "# convert numpy array to pytorch array\n",
    "pytorch_tensor = torch.Tensor(numpy_tensor)\n",
    "print(pytorch_tensor)"
   ]
  },
  {
   "cell_type": "code",
   "execution_count": 27,
   "metadata": {},
   "outputs": [
    {
     "name": "stdout",
     "output_type": "stream",
     "text": [
      "tensor([[ 2.4590,  0.1096, -1.6148,  0.2182],\n",
      "        [ 0.7462,  1.0689,  0.4148, -1.4895],\n",
      "        [-0.9278, -0.2356, -1.1062, -0.8890]], dtype=torch.float64)\n"
     ]
    }
   ],
   "source": [
    "# use from_numpy\n",
    "pytorch_tensor = torch.from_numpy(numpy_tensor)\n",
    "print(pytorch_tensor)"
   ]
  },
  {
   "cell_type": "code",
   "execution_count": 28,
   "metadata": {},
   "outputs": [
    {
     "data": {
      "text/plain": [
       "array([[ 2.45897278,  0.1096162 , -1.61479563,  0.21819903],\n",
       "       [ 0.74621809,  1.06890612,  0.41477782, -1.48952938],\n",
       "       [-0.92784242, -0.23560003, -1.10622968, -0.88898243]])"
      ]
     },
     "execution_count": 28,
     "metadata": {},
     "output_type": "execute_result"
    }
   ],
   "source": [
    "# convert torch tensor to numpy representation\n",
    "pytorch_tensor.numpy()"
   ]
  },
  {
   "cell_type": "markdown",
   "metadata": {},
   "source": [
    "### 6.2.3 Operations with Tensors\n",
    "\n",
    "You can operate on tensors in the ways you would expect."
   ]
  },
  {
   "cell_type": "code",
   "execution_count": 29,
   "metadata": {},
   "outputs": [
    {
     "name": "stdout",
     "output_type": "stream",
     "text": [
      "tensor([ 5.,  7.,  9.])\n"
     ]
    }
   ],
   "source": [
    "x = torch.Tensor([ 1., 2., 3. ])\n",
    "y = torch.Tensor([ 4., 5., 6. ])\n",
    "z = x + y\n",
    "print (z)"
   ]
  },
  {
   "cell_type": "code",
   "execution_count": 30,
   "metadata": {},
   "outputs": [
    {
     "name": "stdout",
     "output_type": "stream",
     "text": [
      "tensor([ 5.,  7.,  9.])\n"
     ]
    }
   ],
   "source": [
    "# You can also use\n",
    "z = torch.add(x, y)\n",
    "print(z)"
   ]
  },
  {
   "cell_type": "markdown",
   "metadata": {},
   "source": [
    "For more and compresnive list on pytorch  operations follow [pytorch documentation](https://pytorch.org/docs/stable/tensors.html)"
   ]
  },
  {
   "cell_type": "markdown",
   "metadata": {},
   "source": [
    "#### Reshaping Tensors\n",
    "\n",
    "The **.view()** method  provide a function to reshape a tensor. This method receives heavy use, because many neural network components expect their inputs to have a certain shape. Often you will need to reshape before passing your data to the component.\n"
   ]
  },
  {
   "cell_type": "code",
   "execution_count": 31,
   "metadata": {},
   "outputs": [
    {
     "data": {
      "text/plain": [
       "tensor([[[ 0.0668, -1.3526,  0.9937, -0.3418],\n",
       "         [ 0.5076,  0.5465,  0.7185,  0.8470],\n",
       "         [-3.1739, -0.2206,  1.2856,  1.1743]]])"
      ]
     },
     "execution_count": 31,
     "metadata": {},
     "output_type": "execute_result"
    }
   ],
   "source": [
    "x = torch.randn(1, 3, 4)\n",
    "x"
   ]
  },
  {
   "cell_type": "code",
   "execution_count": 32,
   "metadata": {},
   "outputs": [
    {
     "data": {
      "text/plain": [
       "tensor([[ 0.0668, -1.3526,  0.9937, -0.3418,  0.5076,  0.5465,  0.7185,\n",
       "          0.8470, -3.1739, -0.2206,  1.2856,  1.1743]])"
      ]
     },
     "execution_count": 32,
     "metadata": {},
     "output_type": "execute_result"
    }
   ],
   "source": [
    "# Reshape to 1 rows, 12 columns\n",
    "x.view(1, 12) "
   ]
  },
  {
   "cell_type": "code",
   "execution_count": 33,
   "metadata": {},
   "outputs": [
    {
     "data": {
      "text/plain": [
       "tensor([[[ 0.0668, -1.3526],\n",
       "         [ 0.9937, -0.3418],\n",
       "         [ 0.5076,  0.5465],\n",
       "         [ 0.7185,  0.8470],\n",
       "         [-3.1739, -0.2206],\n",
       "         [ 1.2856,  1.1743]]])"
      ]
     },
     "execution_count": 33,
     "metadata": {},
     "output_type": "execute_result"
    }
   ],
   "source": [
    "# Reshape to 1x6x2 \n",
    "x.view(1, 6, 2) "
   ]
  },
  {
   "cell_type": "markdown",
   "metadata": {},
   "source": [
    "### 6.3 GPU support\n",
    "Pytorch has GPU support that  greatly speed up training of deep learning  models by running the matrix operations on a GPU with CUDA. GPU support is implemented in `torch.cuda`. This package adds support for CUDA tensor types, that implement the same function as CPU tensors, but they utilize GPUs for computation. The new API (v0.4.0) lets us define it in a nice way.\n",
    "\n",
    "You can use `is_available()` to determine if your system supports CUDA"
   ]
  },
  {
   "cell_type": "code",
   "execution_count": 34,
   "metadata": {},
   "outputs": [
    {
     "name": "stdout",
     "output_type": "stream",
     "text": [
      "No cuda support\n"
     ]
    }
   ],
   "source": [
    "if torch.cuda.is_available():\n",
    "    print(\"CUDA supported\")\n",
    "    \n",
    "else:\n",
    "    print(\"No cuda support\")"
   ]
  },
  {
   "cell_type": "markdown",
   "metadata": {},
   "source": [
    "### 6.3.1 Move tensors between  CPU and  GPU\n",
    "\n",
    "A torch.device contains a device type ('cpu' or 'cuda') and optional device ordinal (id) for the device type. It can be initilized with torch.device('{device_type}'). \n",
    "\n",
    "- The device attribute of a Tensor gives the torch.device for all Tensors (get_device only works for CUDA tensors)\n",
    "- The to method of Tensors and Modules can be used to easily move objects to different devices (instead of having to call cpu() or cuda() based on the context)\n"
   ]
  },
  {
   "cell_type": "code",
   "execution_count": 35,
   "metadata": {},
   "outputs": [
    {
     "name": "stdout",
     "output_type": "stream",
     "text": [
      "Device type set: CPU\n"
     ]
    }
   ],
   "source": [
    "# at beginning of the script\n",
    "device = torch.device(\"cuda:0\" if torch.cuda.is_available() else \"cpu\")\n",
    "\n",
    "print(\"Device type set:\", \"GPU\" if device.type == \"cuda\" else \"CPU\")"
   ]
  },
  {
   "cell_type": "markdown",
   "metadata": {},
   "source": [
    "Tensors can be moved onto any device using the **.to** method."
   ]
  },
  {
   "cell_type": "code",
   "execution_count": 36,
   "metadata": {},
   "outputs": [],
   "source": [
    "#convert tensor into device\n",
    "x = x.to(device)"
   ]
  },
  {
   "cell_type": "markdown",
   "metadata": {},
   "source": [
    "### NOTE:\n",
    "You can access use PyTorch with GPU in [Google Colab](https://colab.research.google.com/notebooks/welcome.ipynb#recent=true). Details on how to get started can be found [here](https://jovianlin.io/pytorch-with-gpu-in-google-colab/)"
   ]
  },
  {
   "cell_type": "markdown",
   "metadata": {},
   "source": [
    "## 6.4   Autograd and Variables \n",
    "    "
   ]
  },
  {
   "cell_type": "markdown",
   "metadata": {},
   "source": [
    "**Autograd** provide a mechanism to compute error gradients and back-propagated through the computational graph. It is a define-by-run framework, which means that your backprop is defined by how your code is run, and that every single iteration can be different.\n",
    "\n",
    "**torch.Tensor** is the central class of the package. If you set its attribute **.requires_grad** as True, it starts to track all operations on it. When you finish your computation you can call **.backward()** and have all the gradients computed automatically. \n",
    "\n",
    "To stop a tensor from tracking history, you can call **.detach()** to detach it from the computation history, and to prevent future computation from being tracked.\n",
    "\n",
    "To prevent tracking history (and using memory), you can also wrap the code block in **with torch.no_grad()**:. This is  helpful when evaluating a model because the model may have trainable parameters with requires_grad=True, but for which we don’t need the gradients.\n",
    "\n",
    "\n",
    "Every tensor instance has two attributes: **.data** that contain initial tensor itself and **.grad** that will contain gradients for the corresponding tensor. \n",
    "### NOTE:\n",
    "**Computation graph** is simply a specification of how your data is combined to give you the output. Since the graph totally specifies what parameters were involved with which operations, it contains enough information to compute derivatives. \n",
    "\n"
   ]
  },
  {
   "cell_type": "markdown",
   "metadata": {},
   "source": [
    "For example: if we have $y = wx + b$ it clear that $\\frac{\\partial y}{\\partial x} =w$, $\\frac{\\partial y}{\\partial b} = 1$ and $\\frac{\\partial y}{\\partial w} = x$\n",
    "\n",
    "\n",
    "To compute the derivatives, you can call **.backward()** on a Variable. If Variable is a scalar (i.e. it holds a one element tensor), you don’t need to specify any arguments to backward(), however if it has more elements, you need to specify a grad_output argument that is a tensor of matching shape."
   ]
  },
  {
   "cell_type": "markdown",
   "metadata": {},
   "source": [
    "### Example 1:"
   ]
  },
  {
   "cell_type": "code",
   "execution_count": 37,
   "metadata": {},
   "outputs": [],
   "source": [
    "x = torch.ones(2, 2, requires_grad=True)"
   ]
  },
  {
   "cell_type": "code",
   "execution_count": 39,
   "metadata": {},
   "outputs": [],
   "source": [
    "# Create tensors\n",
    "x = torch.tensor(1.0, requires_grad=True)\n",
    "w = torch.tensor(2.0, requires_grad=True)\n",
    "b = torch.tensor(3.0,  requires_grad=True)"
   ]
  },
  {
   "cell_type": "code",
   "execution_count": 40,
   "metadata": {},
   "outputs": [],
   "source": [
    "# Build a computational graph.\n",
    "y = w * x + b    # y = 2 * x + 3"
   ]
  },
  {
   "cell_type": "code",
   "execution_count": 41,
   "metadata": {},
   "outputs": [
    {
     "name": "stdout",
     "output_type": "stream",
     "text": [
      "tensor(2.)\n",
      "tensor(1.)\n",
      "tensor(1.)\n"
     ]
    }
   ],
   "source": [
    "# Compute gradients.\n",
    "y.backward()\n",
    "\n",
    "# Print out the gradients.\n",
    "print(x.grad)    # x.grad = 2 \n",
    "print(w.grad)    # w.grad = 1 \n",
    "print(b.grad)    # b.grad = 1 "
   ]
  },
  {
   "cell_type": "markdown",
   "metadata": {},
   "source": [
    "### Example 2:"
   ]
  },
  {
   "cell_type": "code",
   "execution_count": 43,
   "metadata": {},
   "outputs": [
    {
     "name": "stdout",
     "output_type": "stream",
     "text": [
      "tensor([[ 18.]])\n"
     ]
    }
   ],
   "source": [
    "# Create tensors variables.\n",
    "x = torch.ones((1, 1), requires_grad=True) \n",
    "\n",
    "# perform operations\n",
    "y = x + 2\n",
    "z = y * y * 3\n",
    "\n",
    "# find gradient\n",
    "z.backward()\n",
    "\n",
    "#print gradient\n",
    "print(x.grad)"
   ]
  },
  {
   "cell_type": "markdown",
   "metadata": {},
   "source": [
    "The gradient of x is equal to 18. This is equivalent to:\n",
    "$$\n",
    "z = 3y^2 \\text{ where } y = x + 2 \\Rightarrow z = 3(x + 2)^2\n",
    "$$\n",
    "\n",
    "Thus: $$ \\frac{dz}{dx} = 6(x +2) = 6(1+2) = 18$$"
   ]
  },
  {
   "cell_type": "markdown",
   "metadata": {},
   "source": [
    "## 6.5 Deep Learning Building Blocks\n",
    "\n",
    "Deep learning consists of composing linearities with non-linearities modules. The introduction of non-linearities allows for powerful models. Given linear and non-liear module how to define objective function and train deep learninh model in pytorch.\n",
    "\n",
    "Neural networks can be constructed using the **torch.nn** package. It provides pretty much all neural network related functionalities such as :\n",
    "\n",
    "- Linear layers - nn.Linear, nn.Bilinear\n",
    "- Convolution Layers - nn.Conv1d, nn.Conv2d, nn.Conv3d, nn.ConvTranspose2d\n",
    "- Nonlinearities - nn.Sigmoid, nn.Tanh, nn.ReLU, nn.LeakyReLU\n",
    "- Pooling Layers - nn.MaxPool1d, nn.AveragePool2d\n",
    "- Recurrent Networks - nn.LSTM, nn.GRU\n",
    "- Normalization - nn.BatchNorm2d\n",
    "- Dropout - nn.Dropout, nn.Dropout2d\n",
    "- Embedding - nn.Embedding\n",
    "- Loss Functions - nn.MSELoss, nn.CrossEntropyLoss, nn.NLLLoss\n"
   ]
  },
  {
   "cell_type": "markdown",
   "metadata": {},
   "source": [
    "Using the above **torch.nn** classes requires defining an instance of the class and then running inputs through the instance.\n",
    "\n",
    "Pytorch provide the functional API thta allows users to  use these classes in a functional way. Such as\n",
    "\n",
    "`import torch.nn.functional as F`\n",
    "\n",
    "- Linear layers - F.linear(input=x, weight=W, bias=b)\n",
    "- Convolution Layers - F.conv2d(input=x, weight=W, bias=b, stride=1, padding=0, dilation=1, groups=1)\n",
    "- Nonlinearities - F.sigmoid(x), F.tanh(x), F.relu(x), F.softmax(x)\n",
    "- Dropout - F.dropout(x, p=0.5, training=True)"
   ]
  },
  {
   "cell_type": "code",
   "execution_count": 44,
   "metadata": {},
   "outputs": [],
   "source": [
    "import torch.nn as nn\n",
    "import torch.nn.functional as F"
   ]
  },
  {
   "cell_type": "markdown",
   "metadata": {},
   "source": [
    "####  Linear function (Affine Maps)\n",
    "\n",
    "This is the core building block of deep learning defined is a function:\n",
    "$$ f(x) = \\mathbf{wx + b}$$ for a matrix $\\mathbf{w} $ and vectors $\\mathbf{x,b}$. Linear function is implemented in: torch.nn\n",
    "\n",
    "**torch.nn.Linear(in_features, out_features, bias=True)**\n",
    "\n",
    "\n",
    "Note: pytorch maps the rows of the input instead of the columns\n",
    "\n",
    "in_features == size of each input sample<br>\n",
    "out_features == size of each output sample<br>\n",
    "(You can term them as number of colums in each sample)"
   ]
  },
  {
   "cell_type": "code",
   "execution_count": 51,
   "metadata": {},
   "outputs": [
    {
     "name": "stdout",
     "output_type": "stream",
     "text": [
      "tensor([[-50.],\n",
      "        [-49.],\n",
      "        [-48.],\n",
      "        [-47.],\n",
      "        [-46.],\n",
      "        [-45.],\n",
      "        [-44.],\n",
      "        [-43.],\n",
      "        [-42.],\n",
      "        [-41.],\n",
      "        [-40.],\n",
      "        [-39.],\n",
      "        [-38.],\n",
      "        [-37.],\n",
      "        [-36.],\n",
      "        [-35.],\n",
      "        [-34.],\n",
      "        [-33.],\n",
      "        [-32.],\n",
      "        [-31.],\n",
      "        [-30.],\n",
      "        [-29.],\n",
      "        [-28.],\n",
      "        [-27.],\n",
      "        [-26.],\n",
      "        [-25.],\n",
      "        [-24.],\n",
      "        [-23.],\n",
      "        [-22.],\n",
      "        [-21.],\n",
      "        [-20.],\n",
      "        [-19.],\n",
      "        [-18.],\n",
      "        [-17.],\n",
      "        [-16.],\n",
      "        [-15.],\n",
      "        [-14.],\n",
      "        [-13.],\n",
      "        [-12.],\n",
      "        [-11.],\n",
      "        [-10.],\n",
      "        [ -9.],\n",
      "        [ -8.],\n",
      "        [ -7.],\n",
      "        [ -6.],\n",
      "        [ -5.],\n",
      "        [ -4.],\n",
      "        [ -3.],\n",
      "        [ -2.],\n",
      "        [ -1.],\n",
      "        [  0.],\n",
      "        [  1.],\n",
      "        [  2.],\n",
      "        [  3.],\n",
      "        [  4.],\n",
      "        [  5.],\n",
      "        [  6.],\n",
      "        [  7.],\n",
      "        [  8.],\n",
      "        [  9.],\n",
      "        [ 10.],\n",
      "        [ 11.],\n",
      "        [ 12.],\n",
      "        [ 13.],\n",
      "        [ 14.],\n",
      "        [ 15.],\n",
      "        [ 16.],\n",
      "        [ 17.],\n",
      "        [ 18.],\n",
      "        [ 19.],\n",
      "        [ 20.],\n",
      "        [ 21.],\n",
      "        [ 22.],\n",
      "        [ 23.],\n",
      "        [ 24.],\n",
      "        [ 25.],\n",
      "        [ 26.],\n",
      "        [ 27.],\n",
      "        [ 28.],\n",
      "        [ 29.],\n",
      "        [ 30.],\n",
      "        [ 31.],\n",
      "        [ 32.],\n",
      "        [ 33.],\n",
      "        [ 34.],\n",
      "        [ 35.],\n",
      "        [ 36.],\n",
      "        [ 37.],\n",
      "        [ 38.],\n",
      "        [ 39.],\n",
      "        [ 40.],\n",
      "        [ 41.],\n",
      "        [ 42.],\n",
      "        [ 43.],\n",
      "        [ 44.],\n",
      "        [ 45.],\n",
      "        [ 46.],\n",
      "        [ 47.],\n",
      "        [ 48.],\n",
      "        [ 49.]])\n",
      "\n",
      "tensor([[ 20.2273],\n",
      "        [ 19.8341],\n",
      "        [ 19.4409],\n",
      "        [ 19.0477],\n",
      "        [ 18.6546],\n",
      "        [ 18.2614],\n",
      "        [ 17.8682],\n",
      "        [ 17.4750],\n",
      "        [ 17.0818],\n",
      "        [ 16.6886],\n",
      "        [ 16.2955],\n",
      "        [ 15.9023],\n",
      "        [ 15.5091],\n",
      "        [ 15.1159],\n",
      "        [ 14.7227],\n",
      "        [ 14.3295],\n",
      "        [ 13.9364],\n",
      "        [ 13.5432],\n",
      "        [ 13.1500],\n",
      "        [ 12.7568],\n",
      "        [ 12.3636],\n",
      "        [ 11.9704],\n",
      "        [ 11.5773],\n",
      "        [ 11.1841],\n",
      "        [ 10.7909],\n",
      "        [ 10.3977],\n",
      "        [ 10.0045],\n",
      "        [  9.6113],\n",
      "        [  9.2182],\n",
      "        [  8.8250],\n",
      "        [  8.4318],\n",
      "        [  8.0386],\n",
      "        [  7.6454],\n",
      "        [  7.2522],\n",
      "        [  6.8591],\n",
      "        [  6.4659],\n",
      "        [  6.0727],\n",
      "        [  5.6795],\n",
      "        [  5.2863],\n",
      "        [  4.8931],\n",
      "        [  4.5000],\n",
      "        [  4.1068],\n",
      "        [  3.7136],\n",
      "        [  3.3204],\n",
      "        [  2.9272],\n",
      "        [  2.5340],\n",
      "        [  2.1409],\n",
      "        [  1.7477],\n",
      "        [  1.3545],\n",
      "        [  0.9613],\n",
      "        [  0.5681],\n",
      "        [  0.1749],\n",
      "        [ -0.2182],\n",
      "        [ -0.6114],\n",
      "        [ -1.0046],\n",
      "        [ -1.3978],\n",
      "        [ -1.7910],\n",
      "        [ -2.1842],\n",
      "        [ -2.5773],\n",
      "        [ -2.9705],\n",
      "        [ -3.3637],\n",
      "        [ -3.7569],\n",
      "        [ -4.1501],\n",
      "        [ -4.5433],\n",
      "        [ -4.9364],\n",
      "        [ -5.3296],\n",
      "        [ -5.7228],\n",
      "        [ -6.1160],\n",
      "        [ -6.5092],\n",
      "        [ -6.9024],\n",
      "        [ -7.2955],\n",
      "        [ -7.6887],\n",
      "        [ -8.0819],\n",
      "        [ -8.4751],\n",
      "        [ -8.8683],\n",
      "        [ -9.2615],\n",
      "        [ -9.6546],\n",
      "        [-10.0478],\n",
      "        [-10.4410],\n",
      "        [-10.8342],\n",
      "        [-11.2274],\n",
      "        [-11.6206],\n",
      "        [-12.0137],\n",
      "        [-12.4069],\n",
      "        [-12.8001],\n",
      "        [-13.1933],\n",
      "        [-13.5865],\n",
      "        [-13.9797],\n",
      "        [-14.3728],\n",
      "        [-14.7660],\n",
      "        [-15.1592],\n",
      "        [-15.5524],\n",
      "        [-15.9456],\n",
      "        [-16.3388],\n",
      "        [-16.7319],\n",
      "        [-17.1251],\n",
      "        [-17.5183],\n",
      "        [-17.9115],\n",
      "        [-18.3047],\n",
      "        [-18.6979]])\n"
     ]
    },
    {
     "data": {
      "text/plain": [
       "torch.Size([100, 1])"
      ]
     },
     "execution_count": 51,
     "metadata": {},
     "output_type": "execute_result"
    }
   ],
   "source": [
    "lin = nn.Linear(1, 1, bias=True)\n",
    "x = torch.Tensor(np.arange(-50, 50).reshape(-1,1))\n",
    "print(x)\n",
    "print()\n",
    "y = lin(x)\n",
    "print(y)\n",
    "y.size()"
   ]
  },
  {
   "cell_type": "code",
   "execution_count": 52,
   "metadata": {},
   "outputs": [
    {
     "data": {
      "image/png": "[encoded data removed]",
      "text/plain": [
       "<Figure size 432x288 with 1 Axes>"
      ]
     },
     "metadata": {},
     "output_type": "display_data"
    }
   ],
   "source": [
    "plt.plot(x.data.numpy(), y.data.numpy(), label=\"linear\")\n",
    "plt.title(\"Linear Activation\")\n",
    "plt.xlabel(\"$x$\")\n",
    "plt.ylabel(\"$y$\")\n",
    "plt.legend();"
   ]
  },
  {
   "cell_type": "markdown",
   "metadata": {},
   "source": [
    "#### Non-Linearities Function (Activation Function)\n",
    "\n",
    "Most used non-linear functions are: sigmoid, tanh and relu function."
   ]
  },
  {
   "cell_type": "code",
   "execution_count": 53,
   "metadata": {},
   "outputs": [
    {
     "data": {
      "image/png": "[encoded data removed]",
      "text/plain": [
       "<Figure size 432x288 with 1 Axes>"
      ]
     },
     "metadata": {},
     "output_type": "display_data"
    }
   ],
   "source": [
    "## sigmoid\n",
    "y = F.sigmoid(x)\n",
    "plt.plot(x.data.numpy(), y.data.numpy(), label=\"sigmoid\")\n",
    "plt.title(\"Sigmoid Activation\")\n",
    "plt.xlabel(\"$x$\")\n",
    "plt.ylabel(\"$y$\")\n",
    "plt.legend();"
   ]
  },
  {
   "cell_type": "code",
   "execution_count": 38,
   "metadata": {},
   "outputs": [
    {
     "data": {
      "image/png": "[encoded data removed]",
      "text/plain": [
       "<matplotlib.figure.Figure at 0x7f8246104908>"
      ]
     },
     "metadata": {},
     "output_type": "display_data"
    }
   ],
   "source": [
    "## Relu\n",
    "y = F.relu(x)\n",
    "plt.plot(x.data.numpy(), y.data.numpy(), label=\"ReLU\")\n",
    "plt.title(\"ReLU Activation\")\n",
    "plt.xlabel(\"$x$\")\n",
    "plt.ylabel(\"$y$\")\n",
    "plt.legend();"
   ]
  },
  {
   "cell_type": "code",
   "execution_count": 41,
   "metadata": {},
   "outputs": [
    {
     "data": {
      "image/png": "[encoded data removed]",
      "text/plain": [
       "<Figure size 432x288 with 1 Axes>"
      ]
     },
     "metadata": {},
     "output_type": "display_data"
    }
   ],
   "source": [
    "## Relu\n",
    "y = F.tanh(x)\n",
    "plt.plot(x.data.numpy(), y.data.numpy(), label=\"Tanh\")\n",
    "plt.title(\"Tanh Activation\")\n",
    "plt.xlabel(\"$x$\")\n",
    "plt.ylabel(\"$y$\")\n",
    "plt.legend();"
   ]
  },
  {
   "cell_type": "markdown",
   "metadata": {},
   "source": [
    "### Other pytorch modules for defining neural networks\n",
    "\n",
    "`torch.optim`: provides implementations of standard stochastic optimization techniques.\n",
    "\n",
    "`torch.distributions`: contains parameterizable probability distributions and sampling functions.\n"
   ]
  },
  {
   "cell_type": "markdown",
   "metadata": {},
   "source": [
    "## 6.6. Creating a neural network\n",
    "\n",
    "To create a neural network in PyTorch, we use **nn.Module** base class with Python class inheritance which allows us to use all of the functionality of the **nn.Module base class**."
   ]
  },
  {
   "cell_type": "code",
   "execution_count": 43,
   "metadata": {},
   "outputs": [],
   "source": [
    "class Model(torch.nn.Module):\n",
    "\n",
    "    def __init__(self, nb_feature, nb_output):\n",
    "        \"\"\"\n",
    "        In the constructor we instantiate two nn.Linear module\n",
    "        \"\"\"\n",
    "        super(Model, self).__init__()\n",
    "        self.fc1 = torch.nn.Linear(nb_feature, hidden_size) \n",
    "        self.fc2 = torch.nn.Linear(hidden_size, nb_output)  \n",
    "        \n",
    "        \n",
    "    def forward(self, x):\n",
    "        \"\"\"\n",
    "        In the forward function we accept a Variable of input data and we must return\n",
    "        a Variable of output data. We can use Modules defined in the constructor as\n",
    "        well as arbitrary operators on Variables.\n",
    "        \"\"\"\n",
    "        x = self.fc1(x)\n",
    "        x = F.relu(x)\n",
    "        x = self.fc2(x)\n",
    "\n",
    "        return x"
   ]
  },
  {
   "cell_type": "markdown",
   "metadata": {},
   "source": [
    "- In the class definition, you can see the inheritance of the base class **torch.nn.Module**. \n",
    "- Then, in the first line of the class initialization (def __init__(self):) we have the required Python **super() function**, which creates an instance of the base **torch.nn.Module** class. \n",
    "- The next line define a linear object defined by **torch.nn.Linear**, with the first argument in the definition being the number of input feature and the next argument being the number of output.\n",
    "- After that we need to define how data flows through out network. This can be doe using **forward()** method in which we supply the input data x as the primary argument. "
   ]
  },
  {
   "cell_type": "markdown",
   "metadata": {},
   "source": [
    "**PyTorch** offers an alternative easier and  more convenient way of creating neural networ using `torch.nn.Sequential` class. You can also define your own layers  and add them to the Sequential chain."
   ]
  },
  {
   "cell_type": "code",
   "execution_count": 45,
   "metadata": {},
   "outputs": [],
   "source": [
    "nb_feature = 2\n",
    "hidden_size = 10\n",
    "nb_output = 1\n",
    "model_type_2 = torch.nn.Sequential(torch.nn.Linear(nb_feature, hidden_size),\n",
    "                            torch.nn.ReLU(),\n",
    "                            torch.nn.Linear(hidden_size, nb_output)\n",
    "                           )"
   ]
  },
  {
   "cell_type": "markdown",
   "metadata": {},
   "source": [
    "The next step is to create an instance of this network architecture and assign this instance to cuda() method if available. Suppose we have the following data."
   ]
  },
  {
   "cell_type": "code",
   "execution_count": 46,
   "metadata": {},
   "outputs": [],
   "source": [
    "# Create tensors.\n",
    "x = torch.randn(10, 8)\n",
    "y = torch.randn(10, 1)"
   ]
  },
  {
   "cell_type": "code",
   "execution_count": 48,
   "metadata": {},
   "outputs": [],
   "source": [
    "model = Model(8, 1)\n",
    "#move to device\n",
    "model = model.to(device)\n",
    "x = x.to(device)\n",
    "y = y.to(device)"
   ]
  },
  {
   "cell_type": "markdown",
   "metadata": {},
   "source": [
    "We can check the instance of our model:"
   ]
  },
  {
   "cell_type": "code",
   "execution_count": 49,
   "metadata": {},
   "outputs": [
    {
     "name": "stdout",
     "output_type": "stream",
     "text": [
      "Model(\n",
      "  (fc1): Linear(in_features=8, out_features=10, bias=True)\n",
      "  (fc2): Linear(in_features=10, out_features=1, bias=True)\n",
      ")\n"
     ]
    }
   ],
   "source": [
    "print(model)"
   ]
  },
  {
   "cell_type": "markdown",
   "metadata": {},
   "source": [
    "### Training the network\n",
    "To train this model we need to setup an optimizer and a loss criterion:"
   ]
  },
  {
   "cell_type": "code",
   "execution_count": 51,
   "metadata": {},
   "outputs": [],
   "source": [
    "criterion = torch.nn.BCEWithLogitsLoss()\n",
    "optimizer = torch.optim.SGD(model.parameters(), lr=0.001)"
   ]
  },
  {
   "cell_type": "markdown",
   "metadata": {},
   "source": [
    "- In the first line, we create a stochastic gradient descent optimizer, and we specify the learning rate and supply the model parameters using **model.parameters()** method of the base **torch.nn.Module** class that we inherit.\n",
    "- Next, we set our loss criterion to be the **MSE** loss. For details on different loss function you may refer to [pytorch documentation](http://pytorch.org/docs/master/nn.html#loss-functions)"
   ]
  },
  {
   "cell_type": "markdown",
   "metadata": {},
   "source": [
    "### In the training process:"
   ]
  },
  {
   "cell_type": "markdown",
   "metadata": {},
   "source": [
    "- First we run optimizer.zero_grad() – this zeroes / resets all the gradients in the model, so that it is ready to go for the next back propagation pass. In other libraries this is performed implicitly, but in PyTorch you have to remember to do it explicitly.\n",
    "- Then we we pass the input data into the model **pred = model(x)** – this will call the **forward()** method in our model class.\n",
    "- After that we get the MSE loss between the output of our network and the target data as **loss = criterion(y_pred, y_data)**."
   ]
  },
  {
   "cell_type": "code",
   "execution_count": 54,
   "metadata": {},
   "outputs": [
    {
     "name": "stdout",
     "output_type": "stream",
     "text": [
      "loss:  0.8419626355171204\n"
     ]
    }
   ],
   "source": [
    "optimizer.zero_grad()\n",
    "pred = model(x)\n",
    "loss = criterion(pred, y)\n",
    "print('loss: ', loss.item())"
   ]
  },
  {
   "cell_type": "markdown",
   "metadata": {},
   "source": [
    "- Then we runs a back-propagation operation from the loss Variable backwards through the network using **loss.backward()***\n",
    "- Finaly we tell PyTorch to execute a gradient descent step based on the gradients calculated during the **.backward()** operation using **optimizer.step()**.\n"
   ]
  },
  {
   "cell_type": "code",
   "execution_count": 55,
   "metadata": {},
   "outputs": [],
   "source": [
    "loss.backward()\n",
    "optimizer.step()"
   ]
  },
  {
   "cell_type": "markdown",
   "metadata": {},
   "source": [
    "### 6.7 Data loaders\n",
    "\n",
    "PyTorch provides two classess the **Dataset class and the Dataloader class** that can be used to to feed  training data into the network.\n",
    "\n",
    "**Dataset class** is used to provide an interface for accessing all the training or testing samples in your dataset. To achieve this, you have to implement two method, `__getitem__` and `__len__` so that each training sample  can be accessed by its index."
   ]
  },
  {
   "cell_type": "code",
   "execution_count": 60,
   "metadata": {},
   "outputs": [],
   "source": [
    "from torch.utils.data import Dataset, DataLoader\n",
    "\n",
    "\n",
    "class customDataset(Dataset):\n",
    "    \"\"\" custom dataset.\"\"\"\n",
    "\n",
    "    # Initialize your data, download, etc.\n",
    "    def __init__(self, x, y):\n",
    "        \n",
    "        x = (x - x.mean(axis=0))/(x.std(axis=0))\n",
    "        \n",
    "        self.len = x.shape[0]\n",
    "        self.x = torch.from_numpy(x).float()\n",
    "        self.y = torch.from_numpy(y).float()\n",
    "\n",
    "    def __getitem__(self, index):\n",
    "        return self.x[index], self.y[index]\n",
    "\n",
    "    def __len__(self):\n",
    "        return self.len\n"
   ]
  },
  {
   "cell_type": "code",
   "execution_count": 61,
   "metadata": {},
   "outputs": [
    {
     "name": "stderr",
     "output_type": "stream",
     "text": [
      "C:\\Users\\Shebo\\Anaconda3\\lib\\site-packages\\ipykernel_launcher.py:9: FutureWarning: Method .as_matrix will be removed in a future version. Use .values instead.\n",
      "  if __name__ == '__main__':\n",
      "C:\\Users\\Shebo\\Anaconda3\\lib\\site-packages\\ipykernel_launcher.py:10: FutureWarning: Method .as_matrix will be removed in a future version. Use .values instead.\n",
      "  # Remove the CWD from sys.path while we load stuff.\n"
     ]
    }
   ],
   "source": [
    "## Let us prepare data and define the dataset class\n",
    "import pandas as pd\n",
    "df = pd.read_csv(\"../data/pima/diabetes.csv\")\n",
    "\n",
    "features = ['Pregnancies', 'Glucose', 'BloodPressure', 'SkinThickness', 'Insulin',\n",
    "       'BMI', 'DiabetesPedigreeFunction', 'Age']\n",
    "target = ['Outcome']\n",
    "\n",
    "inputs = df[features].as_matrix()\n",
    "targets = df[target].as_matrix()"
   ]
  },
  {
   "cell_type": "code",
   "execution_count": 62,
   "metadata": {},
   "outputs": [
    {
     "name": "stdout",
     "output_type": "stream",
     "text": [
      "768\n"
     ]
    }
   ],
   "source": [
    "dataset = customDataset(x=inputs, y=targets)\n",
    "\n",
    "#print length of the datasets\n",
    "print(dataset.len)"
   ]
  },
  {
   "cell_type": "markdown",
   "metadata": {},
   "source": [
    "The **Dataloader class** accept a dataset and other parameters such as **batch size** etc to load the data and so Then we can iterate over the Dataloader to get batches of training data and train your models. This class provides several important functionality for building deep learning models such as batching, shuffling, multiprocess data loading, etc"
   ]
  },
  {
   "cell_type": "code",
   "execution_count": 63,
   "metadata": {},
   "outputs": [],
   "source": [
    "data_loader = DataLoader(dataset=dataset,\n",
    "                          batch_size=32,\n",
    "                          shuffle=True)"
   ]
  },
  {
   "cell_type": "markdown",
   "metadata": {},
   "source": [
    "##### To access data in data loader"
   ]
  },
  {
   "cell_type": "code",
   "execution_count": 64,
   "metadata": {},
   "outputs": [
    {
     "data": {
      "text/plain": [
       "tensor([[-0.5479,  2.3819,  0.0462,  1.5346,  4.0219, -0.1894, -0.9479,\n",
       "          1.6813],\n",
       "        [-0.5479, -1.1234, -0.2122, -1.2882, -0.6929,  0.9655,  1.3836,\n",
       "         -0.5310],\n",
       "        [-0.5479, -1.1860, -0.1605,  0.1545, -0.2587,  0.0263,  0.0759,\n",
       "         -0.9565],\n",
       "        [-1.1419,  2.1002,  0.6666, -0.4100,  0.9134,  0.0009,  0.6346,\n",
       "         -0.9565],\n",
       "        [ 2.1248,  0.6918,  1.2870,  0.7818,  0.5748,  0.5848, -0.6580,\n",
       "          1.5111],\n",
       "        [ 1.2339,  2.1002,  0.4598, -1.2882, -0.6929,  2.0190, -1.0114,\n",
       "          0.8304],\n",
       "        [-0.5479, -0.6226, -0.5741,  0.9073,  0.0886, -1.2936, -0.9570,\n",
       "         -0.9565],\n",
       "        [ 0.9369,  1.2239, -0.7809,  0.7191,  0.8266, -0.1894,  0.3507,\n",
       "          0.4900],\n",
       "        [ 0.6399, -0.4975,  0.5632,  0.4682, -0.6929,  0.0644,  1.2265,\n",
       "         -0.6161],\n",
       "        [-0.2510,  0.2224,  0.1496,  0.2800,  0.9569,  0.0517,  0.2329,\n",
       "         -0.5310],\n",
       "        [-0.8449,  0.8170,  1.2870,  1.2836, -0.6929,  2.1966, -0.3439,\n",
       "         -0.5310],\n",
       "        [-0.8449, -0.6539, -0.1605,  0.5309,  1.0090,  0.0009, -0.0842,\n",
       "          0.7453],\n",
       "        [ 3.3126,  0.4728,  0.0462,  0.7191,  0.2622,  0.6482, -0.9630,\n",
       "          0.8304],\n",
       "        [ 0.9369,  0.3789,  0.7700, -1.2882, -0.6929,  1.0417,  0.6769,\n",
       "          0.3199],\n",
       "        [ 2.4217,  0.5979,  0.8217,  0.7818, -0.6929,  0.6863, -0.6882,\n",
       "          0.6602],\n",
       "        [-1.1419,  1.8185,  1.0802,  0.4054, -0.6929,  1.5367,  0.6467,\n",
       "         -0.8714],\n",
       "        [ 0.6399,  0.1285, -0.0572,  0.5936,  0.3491, -0.2529, -0.0238,\n",
       "         -0.1056],\n",
       "        [ 0.3430,  0.3476,  0.5632, -1.2882, -0.6929, -0.6590, -0.8634,\n",
       "          3.0427],\n",
       "        [-1.1419, -0.5288,  0.3564, -1.2882, -0.6929, -1.7252,  0.3326,\n",
       "         -0.5310],\n",
       "        [-1.1419, -0.4036, -0.0572, -0.0337, -0.6929, -0.5956,  0.9517,\n",
       "         -0.1056],\n",
       "        [ 1.5308,  1.0361,  0.4598,  0.5936,  0.1754, -0.1387, -0.9298,\n",
       "          1.0006],\n",
       "        [-1.1419,  1.6308,  0.4598,  0.7191,  1.6081,  1.8413,  2.0752,\n",
       "          2.1067],\n",
       "        [-0.8449, -0.7478, -0.0572,  0.0291, -0.6929, -0.6083,  1.8819,\n",
       "         -0.9565],\n",
       "        [ 0.9369,  2.0689, -0.9877,  0.7818,  2.7108,  0.2421,  1.0695,\n",
       "          0.0646],\n",
       "        [ 0.3430, -0.4036,  0.1496,  1.4091, -0.0417,  0.5213, -0.6308,\n",
       "         -0.0205],\n",
       "        [-0.2510, -0.3097, -0.3673, -1.2882, -0.6929, -1.1921, -0.9963,\n",
       "         -1.0415],\n",
       "        [-0.5479, -1.5616,  0.0462,  0.4054, -0.6929, -0.5067,  0.3447,\n",
       "         -0.9565],\n",
       "        [-0.5479, -0.8417,  0.3564, -0.1591, -0.1198, -0.0498,  0.5349,\n",
       "         -0.8714],\n",
       "        [ 0.3430, -0.8104,  0.1496,  0.7818, -0.6929,  0.7244, -0.3077,\n",
       "         -0.5310],\n",
       "        [ 0.6399, -1.1234,  0.4598, -1.2882, -0.6929, -0.1006, -0.2714,\n",
       "          0.7453],\n",
       "        [-0.8449,  0.0033,  0.4598,  1.1582, -0.0504,  0.8894, -0.6369,\n",
       "         -0.4459],\n",
       "        [-1.1419,  0.9735,  0.6666,  1.1582,  1.6689,  1.2067, -0.6097,\n",
       "         -0.5310]])"
      ]
     },
     "execution_count": 64,
     "metadata": {},
     "output_type": "execute_result"
    }
   ],
   "source": [
    "X_data, y_data=next(iter(data_loader))\n",
    "X_data"
   ]
  },
  {
   "cell_type": "markdown",
   "metadata": {},
   "source": [
    "To iterate through our data we use for loop as follows"
   ]
  },
  {
   "cell_type": "code",
   "execution_count": 52,
   "metadata": {},
   "outputs": [
    {
     "name": "stdout",
     "output_type": "stream",
     "text": [
      "tensor([[ 0.3430, -0.1219,  1.1836, -1.2882, -0.6929,  0.2675, -0.4073,\n",
      "          0.4049],\n",
      "        [-0.5479,  0.0346, -0.8843,  1.4091,  0.6790,  0.5340,  1.0393,\n",
      "         -0.4459],\n",
      "        [ 1.2339,  0.9422,  0.4598,  0.7191,  1.1305,  1.3844,  0.1333,\n",
      "          0.2348],\n",
      "        [ 0.6399,  0.7231,  0.1496,  0.4054,  1.2868,  0.2421, -0.6550,\n",
      "          0.5751],\n",
      "        [-1.1419, -1.4990, -3.5726, -1.2882, -0.6929, -1.3825, -0.3922,\n",
      "         -0.7012],\n",
      "        [-0.8449, -0.7478,  0.0462,  1.2209, -0.6929,  0.7751, -0.7667,\n",
      "         -0.2758],\n",
      "        [-1.1419,  1.2552, -0.9877, -1.2882, -0.6929, -1.2809, -0.6580,\n",
      "          2.7023],\n",
      "        [ 0.0460, -0.6852,  0.3564, -0.3473, -0.2501, -1.1159, -0.7516,\n",
      "         -1.0415],\n",
      "        [ 1.2339, -1.7493,  0.1496,  0.1545, -0.6929,  0.0009,  0.3869,\n",
      "          0.7453],\n",
      "        [-0.8449,  0.1285, -0.9877,  1.2209,  0.7572,  0.1659,  1.4802,\n",
      "         -0.4459],\n",
      "        [-0.5479, -0.3410,  0.2530,  0.5309,  0.3925,  0.0517,  0.6829,\n",
      "         -0.5310],\n",
      "        [-0.5479, -0.8417,  0.3564, -0.1591, -0.1198, -0.0498,  0.5349,\n",
      "         -0.8714],\n",
      "        [-0.8449, -0.3723, -0.4707, -0.7864,  0.8874, -0.8367,  1.4349,\n",
      "         -1.0415],\n",
      "        [-1.1419,  0.6292, -3.5726, -1.2882, -0.6929,  1.3209, -0.8060,\n",
      "         -0.3608],\n",
      "        [-0.5479, -1.0608, -3.5726,  0.1545, -0.6929, -0.3925,  0.9094,\n",
      "         -0.7012],\n",
      "        [-1.1419,  0.1598,  0.8734,  0.4054,  0.3491, -0.5829,  0.1302,\n",
      "         -1.0415],\n",
      "        [-0.5479, -0.0280,  0.3564,  1.0327,  0.2188,  0.9782, -0.7758,\n",
      "         -0.3608],\n",
      "        [-1.1419, -0.4975, -0.2639,  1.2836,  0.5401,  1.2067, -0.9026,\n",
      "         -0.9565],\n",
      "        [-1.1419, -0.6226, -0.3673, -1.2882, -0.6929, -1.2809, -0.4104,\n",
      "         -0.7012],\n",
      "        [-0.2510,  1.5682,  0.1496,  0.7818,  0.4793,  0.1659, -0.8241,\n",
      "         -0.7863],\n",
      "        [ 0.3430, -0.5288,  0.2530, -1.2882, -0.6929, -0.4052, -0.9630,\n",
      "          1.2558],\n",
      "        [-0.8449, -0.9982, -2.3319, -0.0964, -0.4758, -0.5321,  0.2631,\n",
      "         -1.0415],\n",
      "        [ 0.3430, -0.3410, -0.0572, -1.2882, -0.6929, -0.7606, -0.5432,\n",
      "         -0.2758],\n",
      "        [-0.2510, -1.3425, -0.9877,  0.7191,  0.0712, -0.1260, -0.6761,\n",
      "         -0.6161],\n",
      "        [ 2.7187,  0.7544,  0.6666, -0.0964,  0.2622, -1.2429, -0.6852,\n",
      "          2.0216],\n",
      "        [-0.5479, -1.0295, -0.5741,  0.3427, -0.5540, -0.4560,  0.8883,\n",
      "         -0.9565],\n",
      "        [ 1.8278, -0.9669,  0.8217,  0.7191, -0.6929,  0.3690,  1.0665,\n",
      "          1.9365],\n",
      "        [-0.8449, -0.9043, -0.3673,  0.2800, -0.3369, -1.5855,  0.0306,\n",
      "         -0.7012],\n",
      "        [-0.8449, -1.3112,  0.3047,  0.5936, -0.6929,  0.0009, -0.2292,\n",
      "         -0.9565],\n",
      "        [ 2.4217, -0.4662,  0.5632, -1.2882, -0.6929, -1.0652, -1.0114,\n",
      "          0.9155],\n",
      "        [-0.8449, -1.1234, -0.1605,  0.5309, -0.6929, -0.6844, -0.3651,\n",
      "         -0.1907],\n",
      "        [ 0.0460,  2.1315,  2.1142,  0.6564, -0.6929, -0.4433,  0.6286,\n",
      "          0.3199]])\n",
      "tensor([[ 0.],\n",
      "        [ 0.],\n",
      "        [ 1.],\n",
      "        [ 0.],\n",
      "        [ 0.],\n",
      "        [ 0.],\n",
      "        [ 0.],\n",
      "        [ 0.],\n",
      "        [ 0.],\n",
      "        [ 1.],\n",
      "        [ 0.],\n",
      "        [ 0.],\n",
      "        [ 0.],\n",
      "        [ 1.],\n",
      "        [ 0.],\n",
      "        [ 0.],\n",
      "        [ 0.],\n",
      "        [ 0.],\n",
      "        [ 0.],\n",
      "        [ 1.],\n",
      "        [ 0.],\n",
      "        [ 0.],\n",
      "        [ 0.],\n",
      "        [ 1.],\n",
      "        [ 0.],\n",
      "        [ 0.],\n",
      "        [ 1.],\n",
      "        [ 0.],\n",
      "        [ 0.],\n",
      "        [ 0.],\n",
      "        [ 0.],\n",
      "        [ 0.]])\n"
     ]
    }
   ],
   "source": [
    "# for training purpose will \n",
    "for i, (x_data, y_data) in enumerate(data_loader, 0):\n",
    "         if i ==2:\n",
    "            print(x_data)\n",
    "            print(y_data)\n",
    "            break"
   ]
  },
  {
   "cell_type": "code",
   "execution_count": 65,
   "metadata": {},
   "outputs": [],
   "source": [
    "def train(model, optimizer, loss_fn,  device, data_loader, num_epochs, print_every=2):\n",
    "    \n",
    "    total_loss = []\n",
    "    model.to(device)\n",
    "    loss_fn.to(device)\n",
    "    \n",
    "    model.train()\n",
    "    print(\"Start training\")\n",
    "    \n",
    "    for epoch in range(num_epochs):\n",
    "        \n",
    "        training_loss = []\n",
    "        \n",
    "        for i, (inputs, targets) in enumerate(data_loader):\n",
    "            \n",
    "            inputs, targets = inputs.to(device), targets.to(device)\n",
    "            \n",
    "            optimizer.zero_grad()\n",
    "            pred = model(inputs)\n",
    "        \n",
    "            # Calculate Loss: \n",
    "            loss = loss_fn(pred, targets)\n",
    "            training_loss.append(loss.item())\n",
    "            loss.backward()\n",
    "            optimizer.step()\n",
    "    \n",
    "        total_loss.append(np.mean(training_loss))\n",
    "        if epoch % print_every == 0:\n",
    "          print('Train Epoch: {} [{}/{} ({:.0f}%)]  Loss: {:.6f}'.format(\n",
    "                epoch+1, i * len(inputs), len(data_loader.dataset),\n",
    "                100. * i / len(data_loader), np.mean(training_loss)))\n",
    "    return total_loss"
   ]
  },
  {
   "cell_type": "code",
   "execution_count": 66,
   "metadata": {},
   "outputs": [
    {
     "name": "stdout",
     "output_type": "stream",
     "text": [
      "Start training\n",
      "Train Epoch: 1 [736/768 (96%)]  Loss: 0.689157\n",
      "Train Epoch: 51 [736/768 (96%)]  Loss: 0.642030\n",
      "Train Epoch: 101 [736/768 (96%)]  Loss: 0.609413\n",
      "Train Epoch: 151 [736/768 (96%)]  Loss: 0.583370\n",
      "Train Epoch: 201 [736/768 (96%)]  Loss: 0.561260\n",
      "Train Epoch: 251 [736/768 (96%)]  Loss: 0.542288\n",
      "Train Epoch: 301 [736/768 (96%)]  Loss: 0.526447\n",
      "Train Epoch: 351 [736/768 (96%)]  Loss: 0.513404\n",
      "Train Epoch: 401 [736/768 (96%)]  Loss: 0.502852\n",
      "Train Epoch: 451 [736/768 (96%)]  Loss: 0.494322\n",
      "Train Epoch: 501 [736/768 (96%)]  Loss: 0.487639\n",
      "Train Epoch: 551 [736/768 (96%)]  Loss: 0.482023\n",
      "Train Epoch: 601 [736/768 (96%)]  Loss: 0.477119\n",
      "Train Epoch: 651 [736/768 (96%)]  Loss: 0.472743\n",
      "Train Epoch: 701 [736/768 (96%)]  Loss: 0.468955\n",
      "Train Epoch: 751 [736/768 (96%)]  Loss: 0.465823\n",
      "Train Epoch: 801 [736/768 (96%)]  Loss: 0.463229\n",
      "Train Epoch: 851 [736/768 (96%)]  Loss: 0.460971\n",
      "Train Epoch: 901 [736/768 (96%)]  Loss: 0.459091\n",
      "Train Epoch: 951 [736/768 (96%)]  Loss: 0.457547\n"
     ]
    }
   ],
   "source": [
    "train_loss = train(model, optimizer, criterion, device, data_loader, 1000, 50)"
   ]
  },
  {
   "cell_type": "code",
   "execution_count": 67,
   "metadata": {},
   "outputs": [
    {
     "data": {
      "text/plain": [
       "Text(0,0.5,'Loss')"
      ]
     },
     "execution_count": 67,
     "metadata": {},
     "output_type": "execute_result"
    },
    {
     "data": {
      "image/png": "[encoded data removed]",
      "text/plain": [
       "<Figure size 432x288 with 1 Axes>"
      ]
     },
     "metadata": {},
     "output_type": "display_data"
    }
   ],
   "source": [
    "plt.plot(train_loss)\n",
    "plt.title(\"Training loss\")\n",
    "plt.xlabel(\"iterations\")\n",
    "plt.ylabel(\"Loss\")\n"
   ]
  },
  {
   "cell_type": "markdown",
   "metadata": {},
   "source": [
    "## References:\n",
    "\n",
    "- [Adventures in machine learning](http://adventuresinmachinelearning.com/pytorch-tutorial-deep-learning/)\n",
    "- [DeepLearningZeroToAll](https://github.com/hunkim/DeepLearningZeroToAll)\n",
    "- [MILA welocome tutorial](https://github.com/mila-udem/welcome_tutorials/tree/master/pytorch)\n",
    "- [PyTorch With Baby Steps: From y = x To Training A Convnet](http://lelon.io/blog/2018/02/08/pytorch-with-baby-steps)\n",
    "- [How to Use Your Own Custom Dataset for Classification in PyTorch](https://jdhao.github.io/2017/10/23/pytorch-load-data-and-make-batch/)"
   ]
  },
  {
   "cell_type": "markdown",
   "metadata": {},
   "source": [
    "<a name=\"myfootnote1\">1</a>: http://pytorch.org/about/"
   ]
  }
 ],
 "metadata": {
  "kernelspec": {
   "display_name": "Python 3",
   "language": "python",
   "name": "python3"
  },
  "language_info": {
   "codemirror_mode": {
    "name": "ipython",
    "version": 3
   },
   "file_extension": ".py",
   "mimetype": "text/x-python",
   "name": "python",
   "nbconvert_exporter": "python",
   "pygments_lexer": "ipython3",
   "version": "3.6.5"
  },
  "latex_envs": {
   "LaTeX_envs_menu_present": true,
   "autocomplete": true,
   "bibliofile": "biblio.bib",
   "cite_by": "apalike",
   "current_citInitial": 1,
   "eqLabelWithNumbers": true,
   "eqNumInitial": 1,
   "hotkeys": {
    "equation": "Ctrl-E",
    "itemize": "Ctrl-I"
   },
   "labels_anchors": false,
   "latex_user_defs": false,
   "report_style_numbering": false,
   "user_envs_cfg": false
  }
 },
 "nbformat": 4,
 "nbformat_minor": 2
}
