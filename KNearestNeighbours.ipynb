{
 "cells": [
  {
   "cell_type": "markdown",
   "metadata": {},
   "source": [
    "<h2 style=\"text-align:center;\">k-NEAREST NEIGHBORS</h2>\n",
    "<br>\n",
    "\n",
    "- The k-Nearest Neighbors algorithm (k-NN) works on the principle of distance fucntions for a given pair of points.\n",
    "- It an instance based machine learning algorithm(Supervised learning).It is very important and non-parametric algorithm in nature.\n",
    "- The k-NN algorithm is arguably the simplest machine learning algorithm.\n",
    "- In k-Nearest neighbor classifier, k is an integer greater than zero.This is a simple classification technique used to find the k, nearest datapoints in a dataset to a given data point.\n",
    "- The biggest challenge with this classifier is to find out the optimal value for k which depends on the data.\n",
    "- k-NN uses all the features for computing the distance and because of this compleity for searching the nearest neighbors increases, which is the major drawbacks, since all the attributes or features in the dataset may not be very significant.\n",
    "- Thus, providing certain weights to them based on significance, may increase the classifier accuracy.\n",
    "- Building the model consists only of storing the training dataset.To make a prediction for a new data point, the algorithm finds the closest data points in the training dataset--its \"nearest neighbors\"\n",
    "\n",
    "\n",
    "<h4>Note:</h4>\n",
    "\n",
    "- In case where k=1, it is called the nearest neighbor classifier.\n",
    "\n",
    "- Let's X = <i>(x<sub>1</sub>,x<sub>2</sub>...x<sub>n</sub>)</i> be the predicted points, then given a point a = <i>(a<sub>1</sub>,a<sub>2</sub>...a<sub>n</sub>)</i>,\n",
    "- We identify k observations in the training dataset that are similar to a.\n",
    "- Neighbors are defined by a distances that we calculate between observations based on the independent variables.\n",
    "- There are various ways where we can calculate the distance between the points:\n",
    "- One of them is the **Euclidiean distance**.\n",
    "\n",
    "<br>\n",
    "\n",
    "<h3 style=\"text-align:center;\"> <i>d</i> = <span>&radic;[(x<sub>1</sub>-a<sub>1</sub>)<sup>2</sup>+(x<sub>2</sub>-a<sub>2</sub>)<sup>2</sup>+...(x<sub>n</sub>-a<sub>n</sub>)<sup>2</sup>]</span></h3>\n",
    "    \n",
    "<br>\n",
    "\n",
    "- Euclidian distance metric works well when the data set has \"compact\" or\"isolated\" clusters. \n",
    "- Euclidean distance is chosen primarily because its interpretation is straightforward."
   ]
  },
  {
   "cell_type": "markdown",
   "metadata": {},
   "source": [
    "- For each n-dimensional object, the Euclidean distances between the specified object and all training data objects are calculate and the specified object is assigned the class label that most of the k closest training data \n",
    "- Instead of considering only the closest neghbor, we can also consider an arbitrary number , k, of neighbors. This is where the name of the k-nearest neighbors algorithm comes from.\n",
    "- When considering more than one neighbor, we use *voting* to assign a label.\n",
    "-This means that for each test point, we count how many neighbors belong to class 0 and how many neighbors belong to class 1. \n",
    "- We then assign the class that is more frequent: in other words, the majority class among the k-nearest neighbors. \n",
    "\n",
    "<br>\n",
    "<h3> Implementation concept</h3>\n",
    "<br>\n",
    "-Two ways of implementing k-nearest neighbors are \n",
    "   <ul>\n",
    "    <li>normal python library</li>\n",
    "    <li>Scikit learn library</ul>\n",
    "   </ul>\n",
    "   \n",
    " <h4>Algorithm</h4>\n",
    "- The KNN classifier is constructed and accuracy is evaluated using EDM Data mining tool. \n",
    " \n",
    " <b>input:</b>\n",
    "- Training samples, test set of samples and the attribute-list.<br>\n",
    "<b>Output:</b> Accuracy of KNN classifier.\n",
    "\n",
    " <b>Method</b>\n",
    "    <li>Determine parameter K, the number of nearest neighbors</li>\n",
    "    <li>For each case in the target data set that is the set to be               predicted, locate the K closest members (the K nearest neighbors) of the training data set. An Euclidean Distance measure is used to calculate how close each member of the training set is to the target row that is being examined.</li>\n",
    "    <li>Sort the distance and determine nearest neighbors based on   the K-th minimum distance</li>\n",
    "    <li>Gather the categories of the nearest neighbors</li>\n",
    "    <li>Use simple majority of the category of nearest neighbors as the prediction value of the new query instance</li>\n",
    "    <li>Repeat this procedure for the remaining cases in the target set.</li>\n",
    "    "
   ]
  },
  {
   "cell_type": "markdown",
   "metadata": {},
   "source": [
    "<h3>Normal python library</h3>"
   ]
  },
  {
   "cell_type": "code",
   "execution_count": 1,
   "metadata": {},
   "outputs": [],
   "source": [
    "\n",
    "import numpy as np\n",
    "import math\n",
    "import matplotlib as mpl\n",
    "from matplotlib import pyplot as plt\n",
    "from collections import Counter\n",
    "import warnings"
   ]
  },
  {
   "cell_type": "code",
   "execution_count": 2,
   "metadata": {},
   "outputs": [],
   "source": [
    "dataset = {\"K\":[[1,2],[2,1],[2,3],[4,5]],\n",
    "           \"R\":[[6,7],[7,6],[6,8],[9,10]]}"
   ]
  },
  {
   "cell_type": "code",
   "execution_count": 3,
   "metadata": {},
   "outputs": [
    {
     "data": {
      "image/png": "[encoded data removed]",
      "text/plain": [
       "<Figure size 432x288 with 1 Axes>"
      ]
     },
     "metadata": {},
     "output_type": "display_data"
    }
   ],
   "source": [
    "#visualize the dataset\n",
    "for i in dataset:\n",
    "    for ii in dataset[i]:\n",
    "        plt.scatter(ii[0],ii[1],color=i,s=100)\n",
    "        \n",
    "\n",
    "plt.title(\"Scatter graph for the dataset\")\n",
    "plt.grid(True)\n",
    "plt.show()\n",
    "    "
   ]
  },
  {
   "cell_type": "code",
   "execution_count": 4,
   "metadata": {},
   "outputs": [
    {
     "data": {
      "image/png": "[encoded data removed]",
      "text/plain": [
       "<Figure size 432x288 with 1 Axes>"
      ]
     },
     "metadata": {},
     "output_type": "display_data"
    }
   ],
   "source": [
    "#provided the new datapoint \n",
    "new_datapoint = [4,5]\n",
    "\n",
    "\n",
    "for i in dataset:\n",
    "    for ii in dataset[i]:\n",
    "        plt.scatter(ii[0],ii[1],color=i,s=100)\n",
    "plt.scatter(new_datapoint[0],new_datapoint[1],color='b',\n",
    "            s=150)        \n",
    "\n",
    "plt.title(\"Before classification\")\n",
    "plt.grid(True)\n",
    "plt.show()\n",
    "    "
   ]
  },
  {
   "cell_type": "code",
   "execution_count": 5,
   "metadata": {},
   "outputs": [],
   "source": [
    "# define a function to perform KNNClassification\n",
    "import math\n",
    "def KNNClassifier(data,new_data,k=3):\n",
    "    if len(data)>= k:\n",
    "        warnings.warn(\"K can not be less than number of voting groups\")\n",
    "        \n",
    "    distances = []    \n",
    "    for group in data:\n",
    "        for features in data[group]:\n",
    "                #calculate the euclidean distance\n",
    "                \n",
    "            #euclidean_distance = \n",
    "#             sqrt(pow((features[0]-new_data[0]),2)+\n",
    "            #                 pow((features[1]-new_data[1]),2))\n",
    "            \n",
    "            # we can calculate distance using norm from numpy\n",
    "            euclidean_distance = np.linalg.norm(np.array(features)\n",
    "                                                -np.array(new_data))\n",
    "            distances.append([euclidean_distance,group])\n",
    "            \n",
    "    votes = [i[1] for i in sorted(distances)[:k]]\n",
    "    print(Counter(votes).most_common(1))\n",
    "    vote_result = Counter(votes).most_common(1)[0][0]\n",
    "    return vote_result"
   ]
  },
  {
   "cell_type": "code",
   "execution_count": 6,
   "metadata": {},
   "outputs": [
    {
     "name": "stdout",
     "output_type": "stream",
     "text": [
      "[('K', 2)]\n",
      "The new data point belongs to class :  K\n"
     ]
    }
   ],
   "source": [
    "result = KNNClassifier(dataset,new_datapoint,k=3)\n",
    "print(\"The new data point belongs to class : \",result)"
   ]
  },
  {
   "cell_type": "code",
   "execution_count": 7,
   "metadata": {},
   "outputs": [
    {
     "data": {
      "image/png": "[encoded data removed]",
      "text/plain": [
       "<Figure size 432x288 with 1 Axes>"
      ]
     },
     "metadata": {},
     "output_type": "display_data"
    }
   ],
   "source": [
    "for i in dataset:\n",
    "    for ii in dataset[i]:\n",
    "        plt.scatter(ii[0],ii[1],color=i,s=100)\n",
    "plt.scatter(new_datapoint[0],new_datapoint[1],\n",
    "            color=result,edgecolors='b',s=200,)        \n",
    "\n",
    "plt.title(\"After classification\")\n",
    "plt.grid(True)\n",
    "plt.show()"
   ]
  },
  {
   "cell_type": "markdown",
   "metadata": {},
   "source": [
    "<br>\n",
    "<h3>Using SciKit Learn Library</h3>\n",
    "<br>\n",
    "-For this library we using <b>KNeighborsClassifier</b> to biulding model "
   ]
  },
  {
   "cell_type": "code",
   "execution_count": 8,
   "metadata": {},
   "outputs": [],
   "source": [
    "\n",
    "X = [[1,2],[2,1],[2,3],[4,5],[6,7],[7,6],[6,8],[9,10]]\n",
    "y = [0,0,0,0,1,1,1,1]    #K=0, R = 1 "
   ]
  },
  {
   "cell_type": "code",
   "execution_count": 9,
   "metadata": {},
   "outputs": [
    {
     "data": {
      "image/png": "[encoded data removed]",
      "text/plain": [
       "<Figure size 432x288 with 1 Axes>"
      ]
     },
     "metadata": {},
     "output_type": "display_data"
    }
   ],
   "source": [
    "   #visualize the dataset\n",
    "for i in dataset:\n",
    "    for ii in dataset[i]:\n",
    "        plt.scatter(ii[0],ii[1],color=i,s=100)\n",
    "        \n",
    "plt.title(\"Scatter graph for the dataset\")\n",
    "plt.grid(True)\n",
    "plt.show()\n",
    "    "
   ]
  },
  {
   "cell_type": "code",
   "execution_count": 10,
   "metadata": {},
   "outputs": [
    {
     "data": {
      "text/plain": [
       "KNeighborsClassifier(algorithm='auto', leaf_size=30, metric='minkowski',\n",
       "           metric_params=None, n_jobs=1, n_neighbors=3, p=2,\n",
       "           weights='uniform')"
      ]
     },
     "execution_count": 10,
     "metadata": {},
     "output_type": "execute_result"
    }
   ],
   "source": [
    "#import KNNClassifier class\n",
    "from sklearn.neighbors import KNeighborsClassifier\n",
    "#create an instance of the class\n",
    "model = KNeighborsClassifier(n_neighbors=3)\n",
    "#fit the model \n",
    "model.fit(X,y)\n"
   ]
  },
  {
   "cell_type": "code",
   "execution_count": 11,
   "metadata": {},
   "outputs": [
    {
     "data": {
      "text/plain": [
       "array([0, 1])"
      ]
     },
     "execution_count": 11,
     "metadata": {},
     "output_type": "execute_result"
    }
   ],
   "source": [
    "model.classes_"
   ]
  },
  {
   "cell_type": "code",
   "execution_count": 12,
   "metadata": {},
   "outputs": [],
   "source": [
    "new_datapoint= [[6,5]]\n",
    "prediction = model.predict(new_datapoint)"
   ]
  },
  {
   "cell_type": "code",
   "execution_count": 13,
   "metadata": {},
   "outputs": [
    {
     "name": "stdout",
     "output_type": "stream",
     "text": [
      "Model prediction :  [1]\n"
     ]
    }
   ],
   "source": [
    "print(\"Model prediction : \",prediction)"
   ]
  },
  {
   "cell_type": "code",
   "execution_count": 21,
   "metadata": {},
   "outputs": [],
   "source": [
    "#measure accuracy\n",
    "\n",
    "test = [[8,7],[3,2],[4,1],[4,1],[5,9],[7,8]]\n",
    "test_labels = [1,0,0,0,1,1]"
   ]
  },
  {
   "cell_type": "code",
   "execution_count": 22,
   "metadata": {},
   "outputs": [
    {
     "name": "stdout",
     "output_type": "stream",
     "text": [
      "Predictions :  [1 0 0 0 1 1]\n"
     ]
    }
   ],
   "source": [
    "print(\"Predictions : \",model.predict(test))"
   ]
  },
  {
   "cell_type": "code",
   "execution_count": 23,
   "metadata": {},
   "outputs": [
    {
     "name": "stdout",
     "output_type": "stream",
     "text": [
      "Model accuracy :  1.0\n"
     ]
    }
   ],
   "source": [
    "print(\"Model accuracy : \",model.score(test,test_labels))"
   ]
  }
 ],
 "metadata": {
  "kernelspec": {
   "display_name": "Python 3",
   "language": "python",
   "name": "python3"
  },
  "language_info": {
   "codemirror_mode": {
    "name": "ipython",
    "version": 3
   },
   "file_extension": ".py",
   "mimetype": "text/x-python",
   "name": "python",
   "nbconvert_exporter": "python",
   "pygments_lexer": "ipython3",
   "version": "3.6.5"
  }
 },
 "nbformat": 4,
 "nbformat_minor": 2
}
