{
 "cells": [
  {
   "cell_type": "markdown",
   "metadata": {},
   "source": [
    "# PytzMLS2018: Python for ML and DS Research - PIL: Python Imaging Library\n",
    "\n",
    "<center>**Anthony Faustine (sambaiga@gmail.com)**</center>"
   ]
  },
  {
   "cell_type": "markdown",
   "metadata": {},
   "source": [
    "[PIL or Python Imaging Library](https://pillow.readthedocs.io/en/5.0.0/index.html) is a package that exposes many functions to manipulate images from a Python script. It  adds support for opening, manipulating, and saving images."
   ]
  },
  {
   "cell_type": "markdown",
   "metadata": {},
   "source": [
    "## 7.1 Loading an image\n",
    "The most important class in the Python Imaging Library is the Image class which can be loaded from PIL as `from PIL import Image`. To load an image from a file, use the `open()` function in the Image module:"
   ]
  },
  {
   "cell_type": "code",
   "execution_count": 4,
   "metadata": {},
   "outputs": [],
   "source": [
    "from PIL import Image"
   ]
  },
  {
   "cell_type": "code",
   "execution_count": 6,
   "metadata": {},
   "outputs": [],
   "source": [
    "image = Image.open(\"../data/images/cat.jpg\")"
   ]
  },
  {
   "cell_type": "markdown",
   "metadata": {},
   "source": [
    "To display the image you  use `show()` function"
   ]
  },
  {
   "cell_type": "code",
   "execution_count": 7,
   "metadata": {},
   "outputs": [],
   "source": [
    "image.show()"
   ]
  },
  {
   "cell_type": "code",
   "execution_count": 8,
   "metadata": {},
   "outputs": [
    {
     "name": "stdout",
     "output_type": "stream",
     "text": [
      "Size: (296, 350): RGB: JPEG\n"
     ]
    }
   ],
   "source": [
    "# Print image information\n",
    "print('Size: {}: {}: {}'.format(image.size, image.mode, image.format))"
   ]
  },
  {
   "cell_type": "markdown",
   "metadata": {},
   "source": [
    "## 7.2 Image transformation\n",
    "\n",
    "PIL offer several function for transforming images. We can resize images using `resize()` function, rotate image with `rotate()` function and crop an image with `crop()` function."
   ]
  },
  {
   "cell_type": "markdown",
   "metadata": {},
   "source": [
    "### 7.2.1 Resize Image"
   ]
  },
  {
   "cell_type": "code",
   "execution_count": 9,
   "metadata": {},
   "outputs": [],
   "source": [
    "width, height = image.size\n",
    "new_width, new_height = (150, 100)"
   ]
  },
  {
   "cell_type": "markdown",
   "metadata": {},
   "source": [
    "#### Resize image without preserving aspect ratio"
   ]
  },
  {
   "cell_type": "code",
   "execution_count": 11,
   "metadata": {},
   "outputs": [],
   "source": [
    "resized_image = image.resize((new_width, new_height))\n",
    "resized_image.show()"
   ]
  },
  {
   "cell_type": "markdown",
   "metadata": {},
   "source": [
    "#### Resize by preserving aspect ratio"
   ]
  },
  {
   "cell_type": "code",
   "execution_count": 12,
   "metadata": {},
   "outputs": [],
   "source": [
    "# Float casting the height so that the ratio is a float number\n",
    "ratio = width / float(height)"
   ]
  },
  {
   "cell_type": "code",
   "execution_count": 13,
   "metadata": {},
   "outputs": [],
   "source": [
    "# Casting to integer because we are working with pixels\n",
    "new_height = int(new_width / ratio)\n",
    "# or new_width = int(new_height * ratio)\n",
    "resized_image = image.resize((new_width, new_height))\n",
    "resized_image.show()"
   ]
  },
  {
   "cell_type": "markdown",
   "metadata": {},
   "source": [
    "###  7.2.2 Rotate or flipp an image"
   ]
  },
  {
   "cell_type": "code",
   "execution_count": 9,
   "metadata": {},
   "outputs": [],
   "source": [
    "rotated_image = image.rotate(60)\n",
    "rotated_image.show()"
   ]
  },
  {
   "cell_type": "markdown",
   "metadata": {},
   "source": [
    "You can aslo rotate an image using `transpose`  function  which supports these values:\n",
    "- `FLIP_LEFT_RIGHT`\n",
    "-  `FLIP_TOP_BOTTOM`\n",
    "- `ROTATE_90`\n",
    "- `ROTATE_180`\n",
    "- `ROTATE_270`"
   ]
  },
  {
   "cell_type": "code",
   "execution_count": 10,
   "metadata": {},
   "outputs": [],
   "source": [
    "rotated_image = image.transpose(Image.FLIP_TOP_BOTTOM)\n",
    "rotated_image.show()"
   ]
  },
  {
   "cell_type": "markdown",
   "metadata": {},
   "source": [
    "### 7.2.3 Crop an Image\n",
    "\n",
    "When an image is cropped, a rectangular region inside the image is selected and retained while everything else outside the region is removed.\n",
    "\n",
    "To crop an image you need  to define the region which is going to be cropped. A region is defined like this: (left, upper, right, lower) where (left, upper) are the coordinates of the starting point and (right, lower) are the coordinates of the ending point."
   ]
  },
  {
   "cell_type": "code",
   "execution_count": 11,
   "metadata": {},
   "outputs": [],
   "source": [
    "region = (135, 160, 235, 260)  # 100x100 region\n",
    "image_crop = image.crop(region)\n",
    "image_crop.show()"
   ]
  },
  {
   "cell_type": "markdown",
   "metadata": {},
   "source": [
    "## 7.3 Channels\n",
    "\n",
    "The `split` function splits image's channels and returns a tuple of channels or the same image if the mode is L or 1."
   ]
  },
  {
   "cell_type": "code",
   "execution_count": 12,
   "metadata": {},
   "outputs": [],
   "source": [
    "image = Image.open(\"../data/images/zebra.jpg\")"
   ]
  },
  {
   "cell_type": "code",
   "execution_count": 14,
   "metadata": {},
   "outputs": [],
   "source": [
    "image.show()"
   ]
  },
  {
   "cell_type": "code",
   "execution_count": 15,
   "metadata": {},
   "outputs": [],
   "source": [
    "r, g, b = image.split()"
   ]
  },
  {
   "cell_type": "code",
   "execution_count": 16,
   "metadata": {},
   "outputs": [],
   "source": [
    "r.show('R channel')\n",
    "g.show('G channel')\n",
    "b.show('B channel')"
   ]
  },
  {
   "cell_type": "markdown",
   "metadata": {},
   "source": [
    "We will now make images out of each of these channels and visualise them. In order to show the actual color of the channel, we will need to create\n",
    "a completely black image representing channel with 0 values.Image.new creates a black image by default."
   ]
  },
  {
   "cell_type": "code",
   "execution_count": 17,
   "metadata": {},
   "outputs": [],
   "source": [
    "# Split the channels\n",
    "red, green, blue = image.split()"
   ]
  },
  {
   "cell_type": "code",
   "execution_count": 19,
   "metadata": {},
   "outputs": [],
   "source": [
    "#convert the image from RGBA to L mode which will result in a black and white image.\n",
    "black = Image.new('L', image.size)\n",
    "black.show()"
   ]
  },
  {
   "cell_type": "code",
   "execution_count": 20,
   "metadata": {},
   "outputs": [],
   "source": [
    "green_image = Image.merge('RGB', [black, green, black])\n",
    "green_image.show('Green channel')"
   ]
  },
  {
   "cell_type": "code",
   "execution_count": null,
   "metadata": {},
   "outputs": [],
   "source": [
    "red_image = Image.merge('RGB', [red, black, black])\n",
    "red_image.show('Red channel')"
   ]
  },
  {
   "cell_type": "code",
   "execution_count": null,
   "metadata": {},
   "outputs": [],
   "source": [
    "blue_image = Image.merge('RGB', [black, black, blue])\n",
    "blue_image.show('Blue channel')"
   ]
  },
  {
   "cell_type": "markdown",
   "metadata": {},
   "source": [
    "## 7.4 Image enhancements\n",
    "The Python Imaging Library provides a number of methods and modules that can be used to enhance images by color, contrast, brightness or sharpness."
   ]
  },
  {
   "cell_type": "code",
   "execution_count": 14,
   "metadata": {},
   "outputs": [],
   "source": [
    "from PIL import ImageEnhance\n",
    "import time"
   ]
  },
  {
   "cell_type": "markdown",
   "metadata": {},
   "source": [
    "### 7.4.1 Color"
   ]
  },
  {
   "cell_type": "code",
   "execution_count": 15,
   "metadata": {},
   "outputs": [],
   "source": [
    "color_enhancer = ImageEnhance.Color(image)"
   ]
  },
  {
   "cell_type": "code",
   "execution_count": 16,
   "metadata": {},
   "outputs": [],
   "source": [
    "# Enhancement factor of 0 gives a black and white image (no color)\n",
    "color_enhancer.enhance(0.2).show('Color factor: 0')\n"
   ]
  },
  {
   "cell_type": "code",
   "execution_count": 25,
   "metadata": {},
   "outputs": [],
   "source": [
    "# Enhancement factor of 1 gives the original image\n",
    "color_enhancer.enhance(1).show('Color factor: 1')"
   ]
  },
  {
   "cell_type": "code",
   "execution_count": 17,
   "metadata": {},
   "outputs": [],
   "source": [
    "# Let's saturate the image now by increasing the factor above 1 (up to 2)\n",
    "for i in range(10):\n",
    "    factor = 1 + i / 10.0\n",
    "    time.sleep(0.2)\n",
    "    color_enhancer.enhance(factor).show('Color factor: %s' % factor)"
   ]
  },
  {
   "cell_type": "markdown",
   "metadata": {},
   "source": [
    "### 7.4.2 Contrast"
   ]
  },
  {
   "cell_type": "code",
   "execution_count": 27,
   "metadata": {},
   "outputs": [],
   "source": [
    "color_enhancer = ImageEnhance.Contrast(image)\n"
   ]
  },
  {
   "cell_type": "code",
   "execution_count": 28,
   "metadata": {},
   "outputs": [],
   "source": [
    "# Enhancement factor of 0 gives solid grey image\n",
    "color_enhancer.enhance(0).show('Contrast factor: 0')"
   ]
  },
  {
   "cell_type": "code",
   "execution_count": 29,
   "metadata": {},
   "outputs": [],
   "source": [
    "# Enhancement factor of 1 gives the original image\n",
    "color_enhancer.enhance(1).show('Contrast factor: 1')"
   ]
  },
  {
   "cell_type": "code",
   "execution_count": null,
   "metadata": {},
   "outputs": [],
   "source": [
    "# Increase the contrast of the image by increasing the factor\n",
    " # above 1 (up to 2)\n",
    "for i in range(10):\n",
    "    factor = 1 + i / 10.0\n",
    "    time.sleep(0.2)\n",
    "    color_enhancer.enhance(factor).show('Contrast factor: %s' % factor)"
   ]
  },
  {
   "cell_type": "markdown",
   "metadata": {},
   "source": [
    "### 7.4.3 Brightness"
   ]
  },
  {
   "cell_type": "code",
   "execution_count": null,
   "metadata": {},
   "outputs": [],
   "source": [
    "color_enhancer = ImageEnhance.Brightness(image)"
   ]
  },
  {
   "cell_type": "code",
   "execution_count": null,
   "metadata": {},
   "outputs": [],
   "source": [
    "# Enhancement factor of 0 gives solid black image\n",
    "color_enhancer.enhance(0).show('Brightness factor: 0')"
   ]
  },
  {
   "cell_type": "code",
   "execution_count": null,
   "metadata": {},
   "outputs": [],
   "source": [
    "# Enhancement factor of 1 gives the original image\n",
    "color_enhancer.enhance(1).show('Brightness factor: 1')"
   ]
  },
  {
   "cell_type": "code",
   "execution_count": 30,
   "metadata": {},
   "outputs": [],
   "source": [
    "# Increase the brightness of the image by increasing the factor\n",
    "# above 1 (up to 2)\n",
    "for i in range(10):\n",
    "    factor = 1 + i / 10.0\n",
    "    time.sleep(0.2)\n",
    "    color_enhancer.enhance(factor).show('Brightness factor: %s' % factor)"
   ]
  },
  {
   "cell_type": "markdown",
   "metadata": {},
   "source": [
    "### 7.4.5 Sharpness"
   ]
  },
  {
   "cell_type": "code",
   "execution_count": 31,
   "metadata": {},
   "outputs": [],
   "source": [
    "color_enhancer = ImageEnhance.Sharpness(image)\n"
   ]
  },
  {
   "cell_type": "code",
   "execution_count": 32,
   "metadata": {},
   "outputs": [],
   "source": [
    "# Enhancement factor of 0 gives blurred image\n",
    "color_enhancer.enhance(0).show('Sharpness factor: 0')"
   ]
  },
  {
   "cell_type": "code",
   "execution_count": 33,
   "metadata": {},
   "outputs": [],
   "source": [
    "# Enhancement factor of 1 gives the original image\n",
    "color_enhancer.enhance(1).show('Sharpness factor: 1')"
   ]
  },
  {
   "cell_type": "code",
   "execution_count": 34,
   "metadata": {},
   "outputs": [],
   "source": [
    "for i in range(10):\n",
    "    factor = 1 + i / 10.0\n",
    "    time.sleep(0.2)\n",
    "    color_enhancer.enhance(factor).show('Sharpness factor: %s' % factor)"
   ]
  },
  {
   "cell_type": "markdown",
   "metadata": {},
   "source": [
    "## 7.5 Filter\n",
    "\n",
    "The `ImageFilter` module contains a number of pre-defined enhancement filters that can be used with the `filter()` method."
   ]
  },
  {
   "cell_type": "code",
   "execution_count": 18,
   "metadata": {},
   "outputs": [],
   "source": [
    "from PIL import  ImageFilter"
   ]
  },
  {
   "cell_type": "code",
   "execution_count": 19,
   "metadata": {},
   "outputs": [],
   "source": [
    "# Normal blur\n",
    "blurred_image = image.filter(ImageFilter.BLUR)\n",
    "blurred_image.show('Normal Blur')"
   ]
  },
  {
   "cell_type": "code",
   "execution_count": 37,
   "metadata": {},
   "outputs": [],
   "source": [
    "# Gaussian blur with radius 1-10\n",
    "for i in range(10):\n",
    "    radius = 1 + i\n",
    "    time.sleep(0.5)\n",
    "\n",
    "    image_filter = ImageFilter.GaussianBlur(radius=radius)\n",
    "    blurred_image = image.filter(image_filter)\n",
    "    blurred_image.show('Gaussian Blur (radius %s)' % radius)"
   ]
  },
  {
   "cell_type": "code",
   "execution_count": 38,
   "metadata": {},
   "outputs": [],
   "source": [
    "blurred_image = image.filter(ImageFilter.EDGE_ENHANCE)\n",
    "blurred_image.show()"
   ]
  },
  {
   "cell_type": "markdown",
   "metadata": {},
   "source": [
    "## References\n",
    "\n",
    "1. [py-pil-imageprocessing](https://github.com/gkostadinov/py-pil-imageprocessing)\n",
    "2. [PIllow Tutorial](https://pillow.readthedocs.io/en/5.0.0/handbook/tutorial.html)"
   ]
  }
 ],
 "metadata": {
  "kernelspec": {
   "display_name": "Python 3",
   "language": "python",
   "name": "python3"
  },
  "language_info": {
   "codemirror_mode": {
    "name": "ipython",
    "version": 3
   },
   "file_extension": ".py",
   "mimetype": "text/x-python",
   "name": "python",
   "nbconvert_exporter": "python",
   "pygments_lexer": "ipython3",
   "version": "3.6.5"
  },
  "latex_envs": {
   "LaTeX_envs_menu_present": true,
   "autocomplete": true,
   "bibliofile": "biblio.bib",
   "cite_by": "apalike",
   "current_citInitial": 1,
   "eqLabelWithNumbers": true,
   "eqNumInitial": 1,
   "hotkeys": {
    "equation": "Ctrl-E",
    "itemize": "Ctrl-I"
   },
   "labels_anchors": false,
   "latex_user_defs": false,
   "report_style_numbering": false,
   "user_envs_cfg": false
  }
 },
 "nbformat": 4,
 "nbformat_minor": 2
}
